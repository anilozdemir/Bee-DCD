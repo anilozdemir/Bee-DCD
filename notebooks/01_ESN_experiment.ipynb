{
  "nbformat": 4,
  "nbformat_minor": 0,
  "metadata": {
    "kernelspec": {
      "display_name": "Python 3",
      "language": "python",
      "name": "python3"
    },
    "language_info": {
      "codemirror_mode": {
        "name": "ipython",
        "version": 3
      },
      "file_extension": ".py",
      "mimetype": "text/x-python",
      "name": "python",
      "nbconvert_exporter": "python",
      "pygments_lexer": "ipython3",
      "version": "3.8.5"
    },
    "toc-autonumbering": true,
    "colab": {
      "name": "01-ESN-experiment.ipynb",
      "provenance": [],
      "collapsed_sections": [],
      "include_colab_link": true
    }
  },
  "cells": [
    {
      "cell_type": "markdown",
      "metadata": {
        "id": "view-in-github",
        "colab_type": "text"
      },
      "source": [
        "<a href=\"https://colab.research.google.com/github/anilozdemir/Bee-DCD/blob/main/notebooks/01_ESN_experiment.ipynb\" target=\"_parent\"><img src=\"https://colab.research.google.com/assets/colab-badge.svg\" alt=\"Open In Colab\"/></a>"
      ]
    },
    {
      "cell_type": "markdown",
      "metadata": {
        "id": "M5py83pJZnm4"
      },
      "source": [
        "# Get Bee-DCD Repo from GitHub\n",
        "---"
      ]
    },
    {
      "cell_type": "code",
      "metadata": {
        "colab": {
          "base_uri": "https://localhost:8080/"
        },
        "id": "U5BJojzUZk7u",
        "outputId": "0d41a5e8-9bb4-48f9-ca8b-d4c2c44a0f8b"
      },
      "source": [
        "!git clone https://github.com/anilozdemir/Bee-DCD.git"
      ],
      "execution_count": 1,
      "outputs": [
        {
          "output_type": "stream",
          "name": "stdout",
          "text": [
            "Cloning into 'Bee-DCD'...\n",
            "remote: Enumerating objects: 45, done.\u001b[K\n",
            "remote: Counting objects: 100% (45/45), done.\u001b[K\n",
            "remote: Compressing objects: 100% (44/44), done.\u001b[K\n",
            "remote: Total 45 (delta 9), reused 0 (delta 0), pack-reused 0\u001b[K\n",
            "Unpacking objects: 100% (45/45), done.\n"
          ]
        }
      ]
    },
    {
      "cell_type": "markdown",
      "metadata": {
        "id": "-RJBED8RZsvW"
      },
      "source": [
        "## Install `btdm` module"
      ]
    },
    {
      "cell_type": "code",
      "metadata": {
        "colab": {
          "base_uri": "https://localhost:8080/"
        },
        "id": "auVw2M_kZsDz",
        "outputId": "fa4d5e8a-a5d7-48a5-8a30-c8f52ec93a15"
      },
      "source": [
        "%cd Bee-DCD/src"
      ],
      "execution_count": 2,
      "outputs": [
        {
          "output_type": "stream",
          "name": "stdout",
          "text": [
            "/content/Bee-DCD/src\n"
          ]
        }
      ]
    },
    {
      "cell_type": "code",
      "metadata": {
        "colab": {
          "base_uri": "https://localhost:8080/"
        },
        "id": "GvfPkKYEZk5r",
        "outputId": "c77c9976-d168-4797-d7bb-898c17974605"
      },
      "source": [
        "!python setup.py develop"
      ],
      "execution_count": 3,
      "outputs": [
        {
          "output_type": "stream",
          "name": "stdout",
          "text": [
            "running develop\n",
            "running egg_info\n",
            "creating BTDM.egg-info\n",
            "writing BTDM.egg-info/PKG-INFO\n",
            "writing dependency_links to BTDM.egg-info/dependency_links.txt\n",
            "writing top-level names to BTDM.egg-info/top_level.txt\n",
            "writing manifest file 'BTDM.egg-info/SOURCES.txt'\n",
            "writing manifest file 'BTDM.egg-info/SOURCES.txt'\n",
            "running build_ext\n",
            "Creating /usr/local/lib/python3.7/dist-packages/BTDM.egg-link (link to .)\n",
            "Adding BTDM 1.0 to easy-install.pth file\n",
            "\n",
            "Installed /content/Bee-DCD/src\n",
            "Processing dependencies for BTDM==1.0\n",
            "Finished processing dependencies for BTDM==1.0\n"
          ]
        }
      ]
    },
    {
      "cell_type": "markdown",
      "metadata": {
        "id": "Jb5bpvbKZipW"
      },
      "source": [
        "# Using ESNs to Match HoneyBee and BumbleBee Performance"
      ]
    },
    {
      "cell_type": "code",
      "metadata": {
        "id": "1-oyhAWKZipc"
      },
      "source": [
        "import pickle\n",
        "import itertools\n",
        "\n",
        "import numpy as np\n",
        "from scipy import stats\n",
        "\n",
        "import pandas as pd\n",
        "from tqdm.notebook import trange, tqdm\n",
        "from joblib import Parallel, delayed\n",
        "\n",
        "from btdm.networks import ESN_Reservoir, softMax, NoiseLayer\n",
        "from btdm.environments import DCD_ESN_SingleStep, DCD\n",
        "from btdm.agents import DCD_Agent\n",
        "from btdm.utils import rolling_sum\n",
        "\n",
        "import torch\n",
        "\n",
        "import matplotlib.pyplot as P\n",
        "from matplotlib import style\n",
        "import seaborn as sns\n",
        "style.use('ggplot')\n",
        "sns.set_context('talk',font_scale=1.4)\n",
        "sns.set_style(\"ticks\")"
      ],
      "execution_count": 4,
      "outputs": []
    },
    {
      "cell_type": "markdown",
      "metadata": {
        "id": "7DcpsUAWZipe"
      },
      "source": [
        "# Get the experiment Data"
      ]
    },
    {
      "cell_type": "code",
      "metadata": {
        "id": "AC4prKaMZipf"
      },
      "source": [
        "bb_mean = np.load('../notebooks/data/experiment-data.npz')['bb_mean']\n",
        "bb_sem  = np.load('../notebooks/data/experiment-data.npz')['bb_sem']\n",
        "hb_mean = np.load('../notebooks/data/experiment-data.npz')['hb_mean']\n",
        "hb_sem  = np.load('../notebooks/data/experiment-data.npz')['hb_sem']"
      ],
      "execution_count": 5,
      "outputs": []
    },
    {
      "cell_type": "code",
      "metadata": {
        "tags": [],
        "id": "zoTSPxejZipf"
      },
      "source": [
        "def plot(perf):\n",
        "    mean = np.mean(perf, axis=0)\n",
        "    sem  = stats.sem(perf, axis=0)\n",
        "    nBins = len(mean)\n",
        "    P.figure(figsize=(14,6))\n",
        "    P.errorbar(range(nBins), hb_mean, yerr=hb_sem, c='gold' , lw=3, marker='o', ms=4, mew=5)\n",
        "    P.errorbar(range(nBins), bb_mean, yerr=bb_sem, c='black', lw=3, marker='o', ms=4, mew=5)\n",
        "    P.errorbar(range(nBins), mean   , yerr=sem   , c='blue' , lw=3, marker='o', ms=4, mew=5)\n",
        "    P.legend(['honeybee', 'bumblebee', 'ESN'])    \n",
        "    P.plot(range(nBins),[0.5]*nBins,ls='--',c='gray')\n",
        "    P.xlim(-0.25,nBins-0.75)\n",
        "    P.xticks(range(nBins), range(1,nBins+1));\n",
        "    P.ylim(0.20,0.85)\n",
        "    P.yticks(np.linspace(0.25,0.75,3));\n",
        "    P.xlabel('bins')\n",
        "    P.ylabel('performance')\n",
        "    sns.despine(top=True, right=True)"
      ],
      "execution_count": 6,
      "outputs": []
    },
    {
      "cell_type": "markdown",
      "metadata": {
        "tags": [],
        "id": "Cd8JtOCDZipg"
      },
      "source": [
        "# Optimise Model"
      ]
    },
    {
      "cell_type": "code",
      "metadata": {
        "tags": [],
        "colab": {
          "base_uri": "https://localhost:8080/"
        },
        "id": "T3yLVd5qZiph",
        "outputId": "310cf5bd-0278-4c3a-9007-f1c4e2830869"
      },
      "source": [
        "env_dcd         = DCD() # env to get hiddenStates\n",
        "env_fn          = DCD_ESN_SingleStep # env to use hiddenStates\n",
        "\n",
        "nAgents         = 20\n",
        "\n",
        "nHiddenLayer    = 0\n",
        "hiddenLayerSize = 0\n",
        "noise           = 0.05\n",
        "lR              = 0.06 \n",
        "quantile        = 0.9 \n",
        "contexts        = np.array([[0.5,0], [0,0.5]])\n",
        "env_dcd         = DCD(randomSeed = 1, contexts=contexts) # env to get hiddenStates\n",
        "env_fn          = DCD_ESN_SingleStep # env to use hiddenStates\n",
        "\n",
        "def runAgentParallel(rand):        \n",
        "    # create a new ESN model\n",
        "    model = ESN_Reservoir(env_dcd.observation_space.shape[0], env_dcd.action_space.n, nReservoir=1000, activation=torch.tanh, device='cpu', randomSeed = rand)\n",
        "    # create a new DCD agent\n",
        "    agent = DCD_Agent(env_dcd, env_fn, model, randomSeed = rand, contexts=contexts)\n",
        "    # init agent (readout, threshold, optim, noise)\n",
        "    agent.init_readout_threshold_optim(lR=lR, quantile=quantile, noise=noise, nHiddenLayer = nHiddenLayer, hiddenLayerSize = hiddenLayerSize, SPARCE=True, thrGrad=False)\n",
        "    # train agent\n",
        "    agent.train(nEpoch=30, silent=True)\n",
        "    # evaluate agent\n",
        "    agent.evaluate(nTrial=10, silent=True)\n",
        "    # return results \n",
        "    return {'train': agent.df, 'test': agent.eval_df}\n",
        "EXP = Parallel(n_jobs=min(20,nAgents),verbose=0)(delayed(runAgentParallel)(r) for r in range(nAgents))\n",
        "OverallPerf = np.array([EXP[i]['train'].perf.to_numpy().reshape(-1,5).mean(axis=1) for i in range(nAgents)])"
      ],
      "execution_count": 7,
      "outputs": [
        {
          "output_type": "stream",
          "name": "stderr",
          "text": [
            "/usr/local/lib/python3.7/dist-packages/gym/logger.py:30: UserWarning: \u001b[33mWARN: Box bound precision lowered by casting to float32\u001b[0m\n",
            "  warnings.warn(colorize('%s: %s'%('WARN', msg % args), 'yellow'))\n"
          ]
        }
      ]
    },
    {
      "cell_type": "markdown",
      "metadata": {
        "id": "vtFenZ4-Zipj"
      },
      "source": [
        "## Plot"
      ]
    },
    {
      "cell_type": "code",
      "metadata": {
        "colab": {
          "base_uri": "https://localhost:8080/",
          "height": 421
        },
        "id": "GItYoeI8Zipj",
        "outputId": "fa3dc65a-8b65-49c5-b3cd-bc45afc1d9b7"
      },
      "source": [
        "plot(OverallPerf)"
      ],
      "execution_count": 8,
      "outputs": [
        {
          "output_type": "display_data",
          "data": {
            "image/png": "[encoded data removed]",
            "text/plain": [
              "<Figure size 1008x432 with 1 Axes>"
            ]
          },
          "metadata": {}
        }
      ]
    }
  ]
}