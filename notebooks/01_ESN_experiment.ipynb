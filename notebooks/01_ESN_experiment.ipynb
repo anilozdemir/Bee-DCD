{
  "nbformat": 4,
  "nbformat_minor": 0,
  "metadata": {
    "kernelspec": {
      "display_name": "Python 3",
      "language": "python",
      "name": "python3"
    },
    "language_info": {
      "codemirror_mode": {
        "name": "ipython",
        "version": 3
      },
      "file_extension": ".py",
      "mimetype": "text/x-python",
      "name": "python",
      "nbconvert_exporter": "python",
      "pygments_lexer": "ipython3",
      "version": "3.8.5"
    },
    "toc-autonumbering": true,
    "colab": {
      "name": "01-ESN-experiment.ipynb",
      "provenance": [],
      "collapsed_sections": [],
      "include_colab_link": true
    }
  },
  "cells": [
    {
      "cell_type": "markdown",
      "metadata": {
        "id": "view-in-github",
        "colab_type": "text"
      },
      "source": [
        "<a href=\"https://colab.research.google.com/github/anilozdemir/Bee-DCD/blob/main/notebooks/01_ESN_experiment.ipynb\" target=\"_parent\"><img src=\"https://colab.research.google.com/assets/colab-badge.svg\" alt=\"Open In Colab\"/></a>"
      ]
    },
    {
      "cell_type": "markdown",
      "metadata": {
        "id": "M5py83pJZnm4"
      },
      "source": [
        "# Get Bee-DCD Repo from GitHub\n",
        "---"
      ]
    },
    {
      "cell_type": "code",
      "metadata": {
        "colab": {
          "base_uri": "https://localhost:8080/"
        },
        "id": "U5BJojzUZk7u",
        "outputId": "f30b3a48-c9be-4319-cf9e-078dbe6972db"
      },
      "source": [
        "!git clone https://github.com/anilozdemir/Bee-DCD.git"
      ],
      "execution_count": null,
      "outputs": [
        {
          "output_type": "stream",
          "name": "stdout",
          "text": [
            "Cloning into 'Bee-DCD'...\n",
            "remote: Enumerating objects: 37, done.\u001b[K\n",
            "remote: Counting objects:   2% (1/37)\u001b[K\rremote: Counting objects:   5% (2/37)\u001b[K\rremote: Counting objects:   8% (3/37)\u001b[K\rremote: Counting objects:  10% (4/37)\u001b[K\rremote: Counting objects:  13% (5/37)\u001b[K\rremote: Counting objects:  16% (6/37)\u001b[K\rremote: Counting objects:  18% (7/37)\u001b[K\rremote: Counting objects:  21% (8/37)\u001b[K\rremote: Counting objects:  24% (9/37)\u001b[K\rremote: Counting objects:  27% (10/37)\u001b[K\rremote: Counting objects:  29% (11/37)\u001b[K\rremote: Counting objects:  32% (12/37)\u001b[K\rremote: Counting objects:  35% (13/37)\u001b[K\rremote: Counting objects:  37% (14/37)\u001b[K\rremote: Counting objects:  40% (15/37)\u001b[K\rremote: Counting objects:  43% (16/37)\u001b[K\rremote: Counting objects:  45% (17/37)\u001b[K\rremote: Counting objects:  48% (18/37)\u001b[K\rremote: Counting objects:  51% (19/37)\u001b[K\rremote: Counting objects:  54% (20/37)\u001b[K\rremote: Counting objects:  56% (21/37)\u001b[K\rremote: Counting objects:  59% (22/37)\u001b[K\rremote: Counting objects:  62% (23/37)\u001b[K\rremote: Counting objects:  64% (24/37)\u001b[K\rremote: Counting objects:  67% (25/37)\u001b[K\rremote: Counting objects:  70% (26/37)\u001b[K\rremote: Counting objects:  72% (27/37)\u001b[K\rremote: Counting objects:  75% (28/37)\u001b[K\rremote: Counting objects:  78% (29/37)\u001b[K\rremote: Counting objects:  81% (30/37)\u001b[K\rremote: Counting objects:  83% (31/37)\u001b[K\rremote: Counting objects:  86% (32/37)\u001b[K\rremote: Counting objects:  89% (33/37)\u001b[K\rremote: Counting objects:  91% (34/37)\u001b[K\rremote: Counting objects:  94% (35/37)\u001b[K\rremote: Counting objects:  97% (36/37)\u001b[K\rremote: Counting objects: 100% (37/37)\u001b[K\rremote: Counting objects: 100% (37/37), done.\u001b[K\n",
            "remote: Compressing objects:   2% (1/36)\u001b[K\rremote: Compressing objects:   5% (2/36)\u001b[K\rremote: Compressing objects:   8% (3/36)\u001b[K\rremote: Compressing objects:  11% (4/36)\u001b[K\rremote: Compressing objects:  13% (5/36)\u001b[K\rremote: Compressing objects:  16% (6/36)\u001b[K\rremote: Compressing objects:  19% (7/36)\u001b[K\rremote: Compressing objects:  22% (8/36)\u001b[K\rremote: Compressing objects:  25% (9/36)\u001b[K\rremote: Compressing objects:  27% (10/36)\u001b[K\rremote: Compressing objects:  30% (11/36)\u001b[K\rremote: Compressing objects:  33% (12/36)\u001b[K\rremote: Compressing objects:  36% (13/36)\u001b[K\rremote: Compressing objects:  38% (14/36)\u001b[K\rremote: Compressing objects:  41% (15/36)\u001b[K\rremote: Compressing objects:  44% (16/36)\u001b[K\rremote: Compressing objects:  47% (17/36)\u001b[K\rremote: Compressing objects:  50% (18/36)\u001b[K\rremote: Compressing objects:  52% (19/36)\u001b[K\rremote: Compressing objects:  55% (20/36)\u001b[K\rremote: Compressing objects:  58% (21/36)\u001b[K\rremote: Compressing objects:  61% (22/36)\u001b[K\rremote: Compressing objects:  63% (23/36)\u001b[K\rremote: Compressing objects:  66% (24/36)\u001b[K\rremote: Compressing objects:  69% (25/36)\u001b[K\rremote: Compressing objects:  72% (26/36)\u001b[K\rremote: Compressing objects:  75% (27/36)\u001b[K\rremote: Compressing objects:  77% (28/36)\u001b[K\rremote: Compressing objects:  80% (29/36)\u001b[K\rremote: Compressing objects:  83% (30/36)\u001b[K\rremote: Compressing objects:  86% (31/36)\u001b[K\rremote: Compressing objects:  88% (32/36)\u001b[K\rremote: Compressing objects:  91% (33/36)\u001b[K\rremote: Compressing objects:  94% (34/36)\u001b[K\rremote: Compressing objects:  97% (35/36)\u001b[K\rremote: Compressing objects: 100% (36/36)\u001b[K\rremote: Compressing objects: 100% (36/36), done.\u001b[K\n",
            "remote: Total 37 (delta 6), reused 0 (delta 0), pack-reused 0\u001b[K\n",
            "Unpacking objects:   2% (1/37)   \rUnpacking objects:   5% (2/37)   \rUnpacking objects:   8% (3/37)   \rUnpacking objects:  10% (4/37)   \rUnpacking objects:  13% (5/37)   \rUnpacking objects:  16% (6/37)   \rUnpacking objects:  18% (7/37)   \rUnpacking objects:  21% (8/37)   \rUnpacking objects:  24% (9/37)   \rUnpacking objects:  27% (10/37)   \rUnpacking objects:  29% (11/37)   \rUnpacking objects:  32% (12/37)   \rUnpacking objects:  35% (13/37)   \rUnpacking objects:  37% (14/37)   \rUnpacking objects:  40% (15/37)   \rUnpacking objects:  43% (16/37)   \rUnpacking objects:  45% (17/37)   \rUnpacking objects:  48% (18/37)   \rUnpacking objects:  51% (19/37)   \rUnpacking objects:  54% (20/37)   \rUnpacking objects:  56% (21/37)   \rUnpacking objects:  59% (22/37)   \rUnpacking objects:  62% (23/37)   \rUnpacking objects:  64% (24/37)   \rUnpacking objects:  67% (25/37)   \rUnpacking objects:  70% (26/37)   \rUnpacking objects:  72% (27/37)   \rUnpacking objects:  75% (28/37)   \rUnpacking objects:  78% (29/37)   \rUnpacking objects:  81% (30/37)   \rUnpacking objects:  83% (31/37)   \rUnpacking objects:  86% (32/37)   \rUnpacking objects:  89% (33/37)   \rUnpacking objects:  91% (34/37)   \rUnpacking objects:  94% (35/37)   \rUnpacking objects:  97% (36/37)   \rUnpacking objects: 100% (37/37)   \rUnpacking objects: 100% (37/37), done.\n"
          ]
        }
      ]
    },
    {
      "cell_type": "markdown",
      "metadata": {
        "id": "-RJBED8RZsvW"
      },
      "source": [
        "## Install `btdm` module"
      ]
    },
    {
      "cell_type": "code",
      "metadata": {
        "colab": {
          "base_uri": "https://localhost:8080/"
        },
        "id": "auVw2M_kZsDz",
        "outputId": "efa17af0-a852-42af-ce1a-10517a20537e"
      },
      "source": [
        "%cd Bee-DCD/src"
      ],
      "execution_count": null,
      "outputs": [
        {
          "output_type": "stream",
          "name": "stdout",
          "text": [
            "/content/Bee-DCD/src\n"
          ]
        }
      ]
    },
    {
      "cell_type": "code",
      "metadata": {
        "colab": {
          "base_uri": "https://localhost:8080/"
        },
        "id": "GvfPkKYEZk5r",
        "outputId": "77aaeced-f986-4ea3-855e-c962b3c50ceb"
      },
      "source": [
        "!python setup.py develop"
      ],
      "execution_count": null,
      "outputs": [
        {
          "output_type": "stream",
          "name": "stdout",
          "text": [
            "running develop\n",
            "running egg_info\n",
            "creating BTDM.egg-info\n",
            "writing BTDM.egg-info/PKG-INFO\n",
            "writing dependency_links to BTDM.egg-info/dependency_links.txt\n",
            "writing top-level names to BTDM.egg-info/top_level.txt\n",
            "writing manifest file 'BTDM.egg-info/SOURCES.txt'\n",
            "writing manifest file 'BTDM.egg-info/SOURCES.txt'\n",
            "running build_ext\n",
            "Creating /usr/local/lib/python3.7/dist-packages/BTDM.egg-link (link to .)\n",
            "BTDM 1.0 is already the active version in easy-install.pth\n",
            "\n",
            "Installed /content/Bee-DCD/src\n",
            "Processing dependencies for BTDM==1.0\n",
            "Finished processing dependencies for BTDM==1.0\n"
          ]
        }
      ]
    },
    {
      "cell_type": "code",
      "metadata": {
        "colab": {
          "base_uri": "https://localhost:8080/"
        },
        "id": "sA4KkuUUaWNF",
        "outputId": "ab46087a-9629-42a9-9180-bbd963e2710c"
      },
      "source": [
        "%cd .."
      ],
      "execution_count": null,
      "outputs": [
        {
          "output_type": "stream",
          "name": "stdout",
          "text": [
            "/content/Bee-DCD\n"
          ]
        }
      ]
    },
    {
      "cell_type": "markdown",
      "metadata": {
        "id": "Jb5bpvbKZipW"
      },
      "source": [
        "# Using ESNs to Match HoneyBee and BumbleBee Performance"
      ]
    },
    {
      "cell_type": "code",
      "metadata": {
        "id": "1-oyhAWKZipc"
      },
      "source": [
        "import pickle\n",
        "import itertools\n",
        "\n",
        "import numpy as np\n",
        "from scipy import stats\n",
        "\n",
        "import pandas as pd\n",
        "from tqdm.notebook import trange, tqdm\n",
        "from joblib import Parallel, delayed\n",
        "\n",
        "from btdm.networks import ESN_Reservoir, softMax, NoiseLayer\n",
        "from btdm.environments import DCD_ESN_SingleStep, DCD\n",
        "from btdm.agents import DCD_Agent\n",
        "from btdm.utils import rolling_sum\n",
        "\n",
        "import torch\n",
        "\n",
        "import matplotlib.pyplot as P\n",
        "from matplotlib import style\n",
        "import seaborn as sns\n",
        "style.use('ggplot')\n",
        "sns.set_context('talk',font_scale=1.4)\n",
        "sns.set_style(\"ticks\")"
      ],
      "execution_count": null,
      "outputs": []
    },
    {
      "cell_type": "markdown",
      "metadata": {
        "id": "7DcpsUAWZipe"
      },
      "source": [
        "# Get the experiment Data"
      ]
    },
    {
      "cell_type": "code",
      "metadata": {
        "id": "AC4prKaMZipf"
      },
      "source": [
        "bb_mean = np.load('notebooks/data/experiment-data.npz')['bb_mean']\n",
        "bb_sem  = np.load('notebooks/data/experiment-data.npz')['bb_sem']\n",
        "hb_mean = np.load('notebooks/data/experiment-data.npz')['hb_mean']\n",
        "hb_sem  = np.load('notebooks/data/experiment-data.npz')['hb_sem']"
      ],
      "execution_count": null,
      "outputs": []
    },
    {
      "cell_type": "code",
      "metadata": {
        "tags": [],
        "id": "zoTSPxejZipf"
      },
      "source": [
        "def plot(perf):\n",
        "    mean = np.mean(perf, axis=0)\n",
        "    sem  = stats.sem(perf, axis=0)\n",
        "    nBins = len(mean)\n",
        "    P.figure(figsize=(14,6))\n",
        "    P.errorbar(range(nBins), hb_mean, yerr=hb_sem, c='gold' , lw=3, marker='o', ms=4, mew=5)\n",
        "    P.errorbar(range(nBins), bb_mean, yerr=bb_sem, c='black', lw=3, marker='o', ms=4, mew=5)\n",
        "    P.errorbar(range(nBins), mean   , yerr=sem   , c='blue' , lw=3, marker='o', ms=4, mew=5)\n",
        "    P.legend(['honeybee', 'bumblebee', 'ESN'])    \n",
        "    P.plot(range(nBins),[0.5]*nBins,ls='--',c='gray')\n",
        "    P.xlim(-0.25,nBins-0.75)\n",
        "    P.xticks(range(nBins), range(1,nBins+1));\n",
        "    P.ylim(0.20,0.85)\n",
        "    P.yticks(np.linspace(0.25,0.75,3));\n",
        "    P.xlabel('bins')\n",
        "    P.ylabel('performance')\n",
        "    sns.despine(top=True, right=True)"
      ],
      "execution_count": null,
      "outputs": []
    },
    {
      "cell_type": "markdown",
      "metadata": {
        "tags": [],
        "id": "Cd8JtOCDZipg"
      },
      "source": [
        "# Optimise Model"
      ]
    },
    {
      "cell_type": "code",
      "metadata": {
        "tags": [],
        "colab": {
          "base_uri": "https://localhost:8080/"
        },
        "id": "T3yLVd5qZiph",
        "outputId": "fe8a0ae7-00b8-41af-d95c-817ca4e34815"
      },
      "source": [
        "env_dcd         = DCD() # env to get hiddenStates\n",
        "env_fn          = DCD_ESN_SingleStep # env to use hiddenStates\n",
        "\n",
        "nAgents         = 20\n",
        "\n",
        "nHiddenLayer    = 0\n",
        "hiddenLayerSize = 0\n",
        "noise           = 0.05\n",
        "lR              = 0.06 \n",
        "quantile        = 0.9 \n",
        "contexts        = np.array([[0.5,0], [0,0.5]])\n",
        "env_dcd         = DCD(randomSeed = 1, contexts=contexts) # env to get hiddenStates\n",
        "env_fn          = DCD_ESN_SingleStep # env to use hiddenStates\n",
        "\n",
        "def runAgentParallel(rand):        \n",
        "    # create a new ESN model\n",
        "    model = ESN_Reservoir(env_dcd.observation_space.shape[0], env_dcd.action_space.n, nReservoir=1000, activation=torch.tanh, device='cpu', randomSeed = rand)\n",
        "    # create a new DCD agent\n",
        "    agent = DCD_Agent(env_dcd, env_fn, model, randomSeed = rand, contexts=contexts)\n",
        "    # init agent (readout, threshold, optim, noise)\n",
        "    agent.init_readout_threshold_optim(lR=lR, quantile=quantile, noise=noise, nHiddenLayer = nHiddenLayer, hiddenLayerSize = hiddenLayerSize, SPARCE=True, thrGrad=False)\n",
        "    # train agent\n",
        "    agent.train(nEpoch=30, silent=True)\n",
        "    # evaluate agent\n",
        "    agent.evaluate(nTrial=10, silent=True)\n",
        "    # return results \n",
        "    return {'train': agent.df, 'test': agent.eval_df}\n",
        "EXP = Parallel(n_jobs=min(20,nAgents),verbose=0)(delayed(runAgentParallel)(r) for r in range(nAgents))\n",
        "OverallPerf = np.array([EXP[i]['train'].perf.to_numpy().reshape(-1,5).mean(axis=1) for i in range(nAgents)])"
      ],
      "execution_count": null,
      "outputs": [
        {
          "output_type": "stream",
          "name": "stderr",
          "text": [
            "/usr/local/lib/python3.7/dist-packages/gym/logger.py:30: UserWarning: \u001b[33mWARN: Box bound precision lowered by casting to float32\u001b[0m\n",
            "  warnings.warn(colorize('%s: %s'%('WARN', msg % args), 'yellow'))\n"
          ]
        }
      ]
    },
    {
      "cell_type": "markdown",
      "metadata": {
        "id": "vtFenZ4-Zipj"
      },
      "source": [
        "## Plot"
      ]
    },
    {
      "cell_type": "code",
      "metadata": {
        "colab": {
          "base_uri": "https://localhost:8080/",
          "height": 421
        },
        "id": "GItYoeI8Zipj",
        "outputId": "585d57b6-e2c4-4e5c-aaf5-713c599b3a4b"
      },
      "source": [
        "plot(OverallPerf)"
      ],
      "execution_count": null,
      "outputs": [
        {
          "output_type": "display_data",
          "data": {
            "image/png": "[encoded data removed]",
            "text/plain": [
              "<Figure size 1008x432 with 1 Axes>"
            ]
          },
          "metadata": {}
        }
      ]
    }
  ]
}