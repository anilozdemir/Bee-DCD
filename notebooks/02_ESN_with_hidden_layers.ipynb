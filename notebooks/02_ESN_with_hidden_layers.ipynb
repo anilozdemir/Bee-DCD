{
  "nbformat": 4,
  "nbformat_minor": 0,
  "metadata": {
    "kernelspec": {
      "display_name": "Python 3",
      "language": "python",
      "name": "python3"
    },
    "language_info": {
      "codemirror_mode": {
        "name": "ipython",
        "version": 3
      },
      "file_extension": ".py",
      "mimetype": "text/x-python",
      "name": "python",
      "nbconvert_exporter": "python",
      "pygments_lexer": "ipython3",
      "version": "3.8.5"
    },
    "toc-autonumbering": true,
    "colab": {
      "name": "02-ESN-with-hidden-layers.ipynb",
      "provenance": [],
      "collapsed_sections": [],
      "include_colab_link": true
    },
    "widgets": {
      "application/vnd.jupyter.widget-state+json": {
        "3a894a48703a4c86b6133aeb8b888ab5": {
          "model_module": "@jupyter-widgets/controls",
          "model_name": "HBoxModel",
          "model_module_version": "1.5.0",
          "state": {
            "_view_name": "HBoxView",
            "_dom_classes": [],
            "_model_name": "HBoxModel",
            "_view_module": "@jupyter-widgets/controls",
            "_model_module_version": "1.5.0",
            "_view_count": null,
            "_view_module_version": "1.5.0",
            "box_style": "",
            "layout": "IPY_MODEL_9659011cd8e2454c88e5fadd80c83b3d",
            "_model_module": "@jupyter-widgets/controls",
            "children": [
              "IPY_MODEL_6cbc4da9e85f4a0abdeb94efc8298190",
              "IPY_MODEL_005946ec78cb4303bc0f9b017e97ee2f",
              "IPY_MODEL_cd6271d4d6ed4695abb44a525102b71c"
            ]
          }
        },
        "9659011cd8e2454c88e5fadd80c83b3d": {
          "model_module": "@jupyter-widgets/base",
          "model_name": "LayoutModel",
          "model_module_version": "1.2.0",
          "state": {
            "_view_name": "LayoutView",
            "grid_template_rows": null,
            "right": null,
            "justify_content": null,
            "_view_module": "@jupyter-widgets/base",
            "overflow": null,
            "_model_module_version": "1.2.0",
            "_view_count": null,
            "flex_flow": null,
            "width": null,
            "min_width": null,
            "border": null,
            "align_items": null,
            "bottom": null,
            "_model_module": "@jupyter-widgets/base",
            "top": null,
            "grid_column": null,
            "overflow_y": null,
            "overflow_x": null,
            "grid_auto_flow": null,
            "grid_area": null,
            "grid_template_columns": null,
            "flex": null,
            "_model_name": "LayoutModel",
            "justify_items": null,
            "grid_row": null,
            "max_height": null,
            "align_content": null,
            "visibility": null,
            "align_self": null,
            "height": null,
            "min_height": null,
            "padding": null,
            "grid_auto_rows": null,
            "grid_gap": null,
            "max_width": null,
            "order": null,
            "_view_module_version": "1.2.0",
            "grid_template_areas": null,
            "object_position": null,
            "object_fit": null,
            "grid_auto_columns": null,
            "margin": null,
            "display": null,
            "left": null
          }
        },
        "6cbc4da9e85f4a0abdeb94efc8298190": {
          "model_module": "@jupyter-widgets/controls",
          "model_name": "HTMLModel",
          "model_module_version": "1.5.0",
          "state": {
            "_view_name": "HTMLView",
            "style": "IPY_MODEL_84400a67c81c46cdbd2cdc0a116aaab5",
            "_dom_classes": [],
            "description": "",
            "_model_name": "HTMLModel",
            "placeholder": "​",
            "_view_module": "@jupyter-widgets/controls",
            "_model_module_version": "1.5.0",
            "value": "100%",
            "_view_count": null,
            "_view_module_version": "1.5.0",
            "description_tooltip": null,
            "_model_module": "@jupyter-widgets/controls",
            "layout": "IPY_MODEL_f443446b8bbb480ebcc695fe6be19098"
          }
        },
        "005946ec78cb4303bc0f9b017e97ee2f": {
          "model_module": "@jupyter-widgets/controls",
          "model_name": "FloatProgressModel",
          "model_module_version": "1.5.0",
          "state": {
            "_view_name": "ProgressView",
            "style": "IPY_MODEL_c30fda33a85448b39d6761f14a708507",
            "_dom_classes": [],
            "description": "",
            "_model_name": "FloatProgressModel",
            "bar_style": "success",
            "max": 27,
            "_view_module": "@jupyter-widgets/controls",
            "_model_module_version": "1.5.0",
            "value": 27,
            "_view_count": null,
            "_view_module_version": "1.5.0",
            "orientation": "horizontal",
            "min": 0,
            "description_tooltip": null,
            "_model_module": "@jupyter-widgets/controls",
            "layout": "IPY_MODEL_4c0645cb4b194ecf94c97c66c46c2e06"
          }
        },
        "cd6271d4d6ed4695abb44a525102b71c": {
          "model_module": "@jupyter-widgets/controls",
          "model_name": "HTMLModel",
          "model_module_version": "1.5.0",
          "state": {
            "_view_name": "HTMLView",
            "style": "IPY_MODEL_085701383e1542669a80e68a7c62d839",
            "_dom_classes": [],
            "description": "",
            "_model_name": "HTMLModel",
            "placeholder": "​",
            "_view_module": "@jupyter-widgets/controls",
            "_model_module_version": "1.5.0",
            "value": " 27/27 [12:02&lt;00:00, 29.45s/it]",
            "_view_count": null,
            "_view_module_version": "1.5.0",
            "description_tooltip": null,
            "_model_module": "@jupyter-widgets/controls",
            "layout": "IPY_MODEL_cf87d1f552ca4dacaec87f89ad3d2ac1"
          }
        },
        "84400a67c81c46cdbd2cdc0a116aaab5": {
          "model_module": "@jupyter-widgets/controls",
          "model_name": "DescriptionStyleModel",
          "model_module_version": "1.5.0",
          "state": {
            "_view_name": "StyleView",
            "_model_name": "DescriptionStyleModel",
            "description_width": "",
            "_view_module": "@jupyter-widgets/base",
            "_model_module_version": "1.5.0",
            "_view_count": null,
            "_view_module_version": "1.2.0",
            "_model_module": "@jupyter-widgets/controls"
          }
        },
        "f443446b8bbb480ebcc695fe6be19098": {
          "model_module": "@jupyter-widgets/base",
          "model_name": "LayoutModel",
          "model_module_version": "1.2.0",
          "state": {
            "_view_name": "LayoutView",
            "grid_template_rows": null,
            "right": null,
            "justify_content": null,
            "_view_module": "@jupyter-widgets/base",
            "overflow": null,
            "_model_module_version": "1.2.0",
            "_view_count": null,
            "flex_flow": null,
            "width": null,
            "min_width": null,
            "border": null,
            "align_items": null,
            "bottom": null,
            "_model_module": "@jupyter-widgets/base",
            "top": null,
            "grid_column": null,
            "overflow_y": null,
            "overflow_x": null,
            "grid_auto_flow": null,
            "grid_area": null,
            "grid_template_columns": null,
            "flex": null,
            "_model_name": "LayoutModel",
            "justify_items": null,
            "grid_row": null,
            "max_height": null,
            "align_content": null,
            "visibility": null,
            "align_self": null,
            "height": null,
            "min_height": null,
            "padding": null,
            "grid_auto_rows": null,
            "grid_gap": null,
            "max_width": null,
            "order": null,
            "_view_module_version": "1.2.0",
            "grid_template_areas": null,
            "object_position": null,
            "object_fit": null,
            "grid_auto_columns": null,
            "margin": null,
            "display": null,
            "left": null
          }
        },
        "c30fda33a85448b39d6761f14a708507": {
          "model_module": "@jupyter-widgets/controls",
          "model_name": "ProgressStyleModel",
          "model_module_version": "1.5.0",
          "state": {
            "_view_name": "StyleView",
            "_model_name": "ProgressStyleModel",
            "description_width": "",
            "_view_module": "@jupyter-widgets/base",
            "_model_module_version": "1.5.0",
            "_view_count": null,
            "_view_module_version": "1.2.0",
            "bar_color": null,
            "_model_module": "@jupyter-widgets/controls"
          }
        },
        "4c0645cb4b194ecf94c97c66c46c2e06": {
          "model_module": "@jupyter-widgets/base",
          "model_name": "LayoutModel",
          "model_module_version": "1.2.0",
          "state": {
            "_view_name": "LayoutView",
            "grid_template_rows": null,
            "right": null,
            "justify_content": null,
            "_view_module": "@jupyter-widgets/base",
            "overflow": null,
            "_model_module_version": "1.2.0",
            "_view_count": null,
            "flex_flow": null,
            "width": null,
            "min_width": null,
            "border": null,
            "align_items": null,
            "bottom": null,
            "_model_module": "@jupyter-widgets/base",
            "top": null,
            "grid_column": null,
            "overflow_y": null,
            "overflow_x": null,
            "grid_auto_flow": null,
            "grid_area": null,
            "grid_template_columns": null,
            "flex": null,
            "_model_name": "LayoutModel",
            "justify_items": null,
            "grid_row": null,
            "max_height": null,
            "align_content": null,
            "visibility": null,
            "align_self": null,
            "height": null,
            "min_height": null,
            "padding": null,
            "grid_auto_rows": null,
            "grid_gap": null,
            "max_width": null,
            "order": null,
            "_view_module_version": "1.2.0",
            "grid_template_areas": null,
            "object_position": null,
            "object_fit": null,
            "grid_auto_columns": null,
            "margin": null,
            "display": null,
            "left": null
          }
        },
        "085701383e1542669a80e68a7c62d839": {
          "model_module": "@jupyter-widgets/controls",
          "model_name": "DescriptionStyleModel",
          "model_module_version": "1.5.0",
          "state": {
            "_view_name": "StyleView",
            "_model_name": "DescriptionStyleModel",
            "description_width": "",
            "_view_module": "@jupyter-widgets/base",
            "_model_module_version": "1.5.0",
            "_view_count": null,
            "_view_module_version": "1.2.0",
            "_model_module": "@jupyter-widgets/controls"
          }
        },
        "cf87d1f552ca4dacaec87f89ad3d2ac1": {
          "model_module": "@jupyter-widgets/base",
          "model_name": "LayoutModel",
          "model_module_version": "1.2.0",
          "state": {
            "_view_name": "LayoutView",
            "grid_template_rows": null,
            "right": null,
            "justify_content": null,
            "_view_module": "@jupyter-widgets/base",
            "overflow": null,
            "_model_module_version": "1.2.0",
            "_view_count": null,
            "flex_flow": null,
            "width": null,
            "min_width": null,
            "border": null,
            "align_items": null,
            "bottom": null,
            "_model_module": "@jupyter-widgets/base",
            "top": null,
            "grid_column": null,
            "overflow_y": null,
            "overflow_x": null,
            "grid_auto_flow": null,
            "grid_area": null,
            "grid_template_columns": null,
            "flex": null,
            "_model_name": "LayoutModel",
            "justify_items": null,
            "grid_row": null,
            "max_height": null,
            "align_content": null,
            "visibility": null,
            "align_self": null,
            "height": null,
            "min_height": null,
            "padding": null,
            "grid_auto_rows": null,
            "grid_gap": null,
            "max_width": null,
            "order": null,
            "_view_module_version": "1.2.0",
            "grid_template_areas": null,
            "object_position": null,
            "object_fit": null,
            "grid_auto_columns": null,
            "margin": null,
            "display": null,
            "left": null
          }
        }
      }
    }
  },
  "cells": [
    {
      "cell_type": "markdown",
      "metadata": {
        "id": "view-in-github",
        "colab_type": "text"
      },
      "source": [
        "<a href=\"https://colab.research.google.com/github/anilozdemir/Bee-DCD/blob/main/notebooks/02_ESN_with_hidden_layers.ipynb\" target=\"_parent\"><img src=\"https://colab.research.google.com/assets/colab-badge.svg\" alt=\"Open In Colab\"/></a>"
      ]
    },
    {
      "cell_type": "markdown",
      "metadata": {
        "id": "5bGFDtCFKhG9"
      },
      "source": [
        "# Get Bee-DCD Repo from GitHub\n",
        "---"
      ]
    },
    {
      "cell_type": "code",
      "metadata": {
        "colab": {
          "base_uri": "https://localhost:8080/"
        },
        "id": "lAUNl6NdKheB",
        "outputId": "a40bc3d0-cd01-40d5-a9b9-c4cad772eec0"
      },
      "source": [
        "!git clone https://github.com/anilozdemir/Bee-DCD.git"
      ],
      "execution_count": 1,
      "outputs": [
        {
          "output_type": "stream",
          "name": "stdout",
          "text": [
            "fatal: destination path 'Bee-DCD' already exists and is not an empty directory.\n"
          ]
        }
      ]
    },
    {
      "cell_type": "markdown",
      "metadata": {
        "id": "rTtcy8JeKg7s"
      },
      "source": [
        "## Install `btdm` module"
      ]
    },
    {
      "cell_type": "code",
      "metadata": {
        "colab": {
          "base_uri": "https://localhost:8080/"
        },
        "id": "K42MwV-YKhVN",
        "outputId": "feb8e0ca-3219-48cb-c7c0-b3e18080a4e0"
      },
      "source": [
        "%cd Bee-DCD/src"
      ],
      "execution_count": 2,
      "outputs": [
        {
          "output_type": "stream",
          "name": "stdout",
          "text": [
            "/content/Bee-DCD/src\n"
          ]
        }
      ]
    },
    {
      "cell_type": "code",
      "metadata": {
        "colab": {
          "base_uri": "https://localhost:8080/"
        },
        "id": "GWAkztm-K2fW",
        "outputId": "44a12cb1-902f-46f7-cc9f-6f0ae34c0b02"
      },
      "source": [
        "!python setup.py develop"
      ],
      "execution_count": 3,
      "outputs": [
        {
          "output_type": "stream",
          "name": "stdout",
          "text": [
            "running develop\n",
            "running egg_info\n",
            "writing BTDM.egg-info/PKG-INFO\n",
            "writing dependency_links to BTDM.egg-info/dependency_links.txt\n",
            "writing top-level names to BTDM.egg-info/top_level.txt\n",
            "writing manifest file 'BTDM.egg-info/SOURCES.txt'\n",
            "running build_ext\n",
            "Creating /usr/local/lib/python3.7/dist-packages/BTDM.egg-link (link to .)\n",
            "BTDM 1.0 is already the active version in easy-install.pth\n",
            "\n",
            "Installed /content/Bee-DCD/src\n",
            "Processing dependencies for BTDM==1.0\n",
            "Finished processing dependencies for BTDM==1.0\n"
          ]
        }
      ]
    },
    {
      "cell_type": "markdown",
      "metadata": {
        "id": "TsdvvUieKY9r"
      },
      "source": [
        "# Using ESN with Hidde Layers to Match Hummingbird Performance"
      ]
    },
    {
      "cell_type": "code",
      "metadata": {
        "id": "wXg8ZIhDKY9w"
      },
      "source": [
        "import pickle\n",
        "import itertools\n",
        "\n",
        "import numpy as np\n",
        "from scipy import stats\n",
        "\n",
        "import pandas as pd\n",
        "from tqdm.notebook import trange, tqdm\n",
        "from joblib import Parallel, delayed\n",
        "\n",
        "from btdm.networks import ESN_Reservoir, softMax, NoiseLayer\n",
        "from btdm.environments import DCD_ESN_SingleStep, DCD\n",
        "from btdm.agents import DCD_Agent\n",
        "from btdm.utils import rolling_sum\n",
        "\n",
        "import torch\n",
        "\n",
        "import matplotlib.pyplot as P\n",
        "from matplotlib import style\n",
        "import seaborn as sns\n",
        "style.use('ggplot')\n",
        "sns.set_context('talk',font_scale=1.4)\n",
        "sns.set_style(\"ticks\")"
      ],
      "execution_count": 5,
      "outputs": []
    },
    {
      "cell_type": "markdown",
      "metadata": {
        "id": "0tSHlhLkKY9z"
      },
      "source": [
        "# Get the experiment Data"
      ]
    },
    {
      "cell_type": "code",
      "metadata": {
        "id": "I4AvXy0MKY9z"
      },
      "source": [
        "bb_mean = np.load('../notebooks/data/experiment-data.npz')['bb_mean']\n",
        "bb_sem  = np.load('../notebooks/data/experiment-data.npz')['bb_sem']\n",
        "hb_mean = np.load('../notebooks/data/experiment-data.npz')['hb_mean']\n",
        "hb_sem  = np.load('../notebooks/data/experiment-data.npz')['hb_sem']\n",
        "\n",
        "h_mean = [0.4, 0.48, 0.54, 0.5025, 0.4388889, 0.475, 0.5805556, 0.5714286, 0.5673469, 0.5095238, 0.56, 0.64, 0.65, 0.6, 0.6535714, 0.6666667]\n",
        "h_sem  = [0.0942809, 0.08, 0.07333333, 0.06196437, 0.08579692, 0.07511895, 0.05087419, 0.06761234, 0.08498556, 0.05949904, 0.02828427, 0.02828427, 0.09486833, 0.10327956, 0.05787070, 0]"
      ],
      "execution_count": 6,
      "outputs": []
    },
    {
      "cell_type": "code",
      "metadata": {
        "id": "p-ijCFgQKY90"
      },
      "source": [
        "def plot(perf, perf_hb):\n",
        "    mean    = np.mean(perf, axis=0)\n",
        "    sem     = stats.sem(perf, axis=0)\n",
        "    mean_hb = np.mean(perf_hb, axis=0)\n",
        "    sem_hb  = stats.sem(perf_hb, axis=0) \n",
        "    \n",
        "    nBins = len(mean)\n",
        "    P.figure(figsize=(14,6))\n",
        "    P.errorbar(range(len(hb_mean)), hb_mean, yerr = hb_sem, c='gold', lw=3, marker='o', ms=4, mew=5)\n",
        "    P.errorbar(range(nBins), h_mean, yerr = h_sem, c='fuchsia', lw=3, marker='o', ms=4, mew=5)\n",
        "    P.errorbar(range(nBins), mean  , yerr = sem  , c='blue'   , lw=3, marker='o', ms=4, mew=5)\n",
        "    P.errorbar(range(len(hb_mean)), mean_hb  , yerr = sem_hb  , c='green'   , lw=3, marker='o', ms=4, mew=5)\n",
        "    P.legend(['honeybee','hummingbird', 'ESN', 'ESN_HB'],loc=4)    \n",
        "    P.plot(range(nBins),[0.5]*nBins,ls='--',c='gray')\n",
        "    P.xlim(-0.25,nBins-0.75)\n",
        "    P.xticks(range(nBins), range(1,nBins+1));\n",
        "    \n",
        "    P.ylim(0.20,0.85)\n",
        "    P.yticks(np.linspace(0.25,0.75,3));\n",
        "    P.xlabel('bins')\n",
        "    P.ylabel('performance')\n",
        "    sns.despine(top=True, right=True)"
      ],
      "execution_count": 7,
      "outputs": []
    },
    {
      "cell_type": "markdown",
      "metadata": {
        "id": "J3O_lUu3KY91"
      },
      "source": [
        "# Optimise Model"
      ]
    },
    {
      "cell_type": "code",
      "metadata": {
        "colab": {
          "base_uri": "https://localhost:8080/"
        },
        "id": "LrMr9nRmKY91",
        "outputId": "77f2ceab-5d12-43d4-888c-eeb538749ae8"
      },
      "source": [
        "env_dcd         = DCD() # env to get hiddenStates\n",
        "env_fn          = DCD_ESN_SingleStep # env to use hiddenStates\n",
        "\n",
        "nAgents         = 20\n",
        "\n",
        "nHiddenLayer    = 2\n",
        "hiddenLayerSize = 20\n",
        "noise           = 0.05\n",
        "lR              = 0.09\n",
        "quantile        = 0.9\n",
        "temp            = 1 \n",
        "contexts        = np.array([[0.5,0], [0,0.5]])\n",
        "env_dcd         = DCD(contexts=contexts) # env to get hiddenStates\n",
        "env_fn          = DCD_ESN_SingleStep # env to use hiddenStates\n",
        "\n",
        "def runAgentParallel(rand):        \n",
        "    # create a new ESN model\n",
        "    model = ESN_Reservoir(env_dcd.observation_space.shape[0], env_dcd.action_space.n, nReservoir=1000, activation=torch.tanh, device='cpu', randomSeed = rand)\n",
        "    # create a new DCD agent\n",
        "    agent = DCD_Agent(env_dcd, env_fn, model,randomSeed = rand, contexts=contexts)\n",
        "    # init agent (readout, threshold, optim, noise)\n",
        "    agent.init_readout_threshold_optim(lR=lR, quantile=quantile, noise=noise, nHiddenLayer = nHiddenLayer, hiddenLayerSize = hiddenLayerSize, temp=temp, SPARCE=True, thrGrad=False)\n",
        "    # train agent\n",
        "    agent.train(nEpoch=80, silent=True)\n",
        "    # evaluate agent\n",
        "    agent.evaluate(nTrial=10, silent=True)\n",
        "    # return results \n",
        "    return {'train': agent.df, 'test': agent.eval_df}\n",
        "EXP = Parallel(n_jobs=min(20,nAgents),verbose=0)(delayed(runAgentParallel)(r) for r in range(nAgents))\n",
        "OverallPerf = np.array([EXP[i]['train'].perf.to_numpy().reshape(-1,5).mean(axis=1) for i in range(nAgents)])"
      ],
      "execution_count": 8,
      "outputs": [
        {
          "output_type": "stream",
          "name": "stderr",
          "text": [
            "/usr/local/lib/python3.7/dist-packages/gym/logger.py:30: UserWarning: \u001b[33mWARN: Box bound precision lowered by casting to float32\u001b[0m\n",
            "  warnings.warn(colorize('%s: %s'%('WARN', msg % args), 'yellow'))\n"
          ]
        }
      ]
    },
    {
      "cell_type": "code",
      "metadata": {
        "colab": {
          "base_uri": "https://localhost:8080/",
          "height": 421
        },
        "id": "527btNdsKY96",
        "outputId": "74b28bc0-158d-4a4a-8582-61431e55a93b"
      },
      "source": [
        "lR_HB = 0.02\n",
        "def runAgentParallel_HB(rand):        \n",
        "    # create a new ESN model\n",
        "    model = ESN_Reservoir(env_dcd.observation_space.shape[0], env_dcd.action_space.n, nReservoir=1000, activation=torch.tanh, device='cpu', randomSeed = rand)\n",
        "    # create a new DCD agent\n",
        "    agent = DCD_Agent(env_dcd, env_fn, model, randomSeed = rand, contexts=contexts)\n",
        "    # init agent (readout, threshold, optim, noise)\n",
        "    agent.init_readout_threshold_optim(lR=lR_HB, quantile=quantile, noise=noise, nHiddenLayer = nHiddenLayer, hiddenLayerSize = hiddenLayerSize, temp=temp, SPARCE=True, thrGrad=False)\n",
        "    # train agent\n",
        "    agent.train(nEpoch=30, silent=True)\n",
        "    # evaluate agent\n",
        "    agent.evaluate(nTrial=10, silent=True)\n",
        "    # return results \n",
        "    return {'train': agent.df, 'test': agent.eval_df}\n",
        "EXP_HB = Parallel(n_jobs=min(50,nAgents),verbose=0)(delayed(runAgentParallel_HB)(r) for r in range(nAgents))\n",
        "OverallPerf_HB = np.array([EXP_HB[i]['train'].perf.to_numpy().reshape(-1,5).mean(axis=1) for i in range(nAgents)])\n",
        "\n",
        "\n",
        "plot(OverallPerf, OverallPerf_HB)"
      ],
      "execution_count": 9,
      "outputs": [
        {
          "output_type": "display_data",
          "data": {
            "image/png": "[encoded data removed]",
            "text/plain": [
              "<Figure size 1008x432 with 1 Axes>"
            ]
          },
          "metadata": {}
        }
      ]
    },
    {
      "cell_type": "markdown",
      "metadata": {
        "id": "UcMJiJwWKY98"
      },
      "source": [
        "# Proving that ESN+HiddenLayer cannot be better than HoneyBee performance"
      ]
    },
    {
      "cell_type": "code",
      "metadata": {
        "colab": {
          "base_uri": "https://localhost:8080/",
          "height": 49,
          "referenced_widgets": [
            "3a894a48703a4c86b6133aeb8b888ab5",
            "9659011cd8e2454c88e5fadd80c83b3d",
            "6cbc4da9e85f4a0abdeb94efc8298190",
            "005946ec78cb4303bc0f9b017e97ee2f",
            "cd6271d4d6ed4695abb44a525102b71c",
            "84400a67c81c46cdbd2cdc0a116aaab5",
            "f443446b8bbb480ebcc695fe6be19098",
            "c30fda33a85448b39d6761f14a708507",
            "4c0645cb4b194ecf94c97c66c46c2e06",
            "085701383e1542669a80e68a7c62d839",
            "cf87d1f552ca4dacaec87f89ad3d2ac1"
          ]
        },
        "id": "LLNbAMjHKY98",
        "outputId": "f0f0a8a6-f6cb-4e12-c3f2-d1219a4812e0"
      },
      "source": [
        "nAgents = 20\n",
        "LRs = np.hstack([np.arange(0.001,0.01,0.001), np.arange(0.01,0.1,0.01), np.arange(0.1,1,0.1)])\n",
        "PERF = np.zeros((len(LRs), nAgents, 6)) # there are 6 bins\n",
        "\n",
        "for i,lR_HB in enumerate(tqdm(LRs)):\n",
        "    def runAgentParallel_HB(rand):        \n",
        "        # create a new ESN model\n",
        "        model = ESN_Reservoir(env_dcd.observation_space.shape[0], env_dcd.action_space.n, nReservoir=1000, activation=torch.tanh, device='cpu', randomSeed = rand)\n",
        "        # create a new DCD agent\n",
        "        agent = DCD_Agent(env_dcd, env_fn, model, randomSeed = rand, contexts=contexts)\n",
        "        # init agent (readout, threshold, optim, noise)\n",
        "        agent.init_readout_threshold_optim(lR=lR_HB, quantile=quantile, noise=noise, nHiddenLayer = nHiddenLayer, hiddenLayerSize = hiddenLayerSize, temp=temp, SPARCE=True, thrGrad=False)\n",
        "        # train agent\n",
        "        agent.train(nEpoch=30, silent=True)\n",
        "        # evaluate agent\n",
        "        agent.evaluate(nTrial=10, silent=True)\n",
        "        # return results \n",
        "        return {'train': agent.df, 'test': agent.eval_df}\n",
        "    EXP_HB = Parallel(n_jobs=min(50,nAgents),verbose=0)(delayed(runAgentParallel_HB)(r) for r in range(nAgents))\n",
        "    PERF[i] = np.array([EXP_HB[i]['train'].perf.to_numpy().reshape(-1,5).mean(axis=1) for i in range(nAgents)])"
      ],
      "execution_count": 10,
      "outputs": [
        {
          "output_type": "display_data",
          "data": {
            "application/vnd.jupyter.widget-view+json": {
              "model_id": "3a894a48703a4c86b6133aeb8b888ab5",
              "version_minor": 0,
              "version_major": 2
            },
            "text/plain": [
              "  0%|          | 0/27 [00:00<?, ?it/s]"
            ]
          },
          "metadata": {}
        }
      ]
    }
  ]
}