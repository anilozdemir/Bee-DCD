{
  "cells": [
    {
      "cell_type": "markdown",
      "metadata": {
        "colab_type": "text",
        "id": "view-in-github"
      },
      "source": [
        "<a href=\"https://colab.research.google.com/github/anilozdemir/Bee-DCD/blob/main/notebooks/03_MLP_with_hidden_layers.ipynb\" target=\"_parent\"><img src=\"https://colab.research.google.com/assets/colab-badge.svg\" alt=\"Open In Colab\"/></a>"
      ]
    },
    {
      "cell_type": "markdown",
      "metadata": {
        "id": "sENCeHK7MVl5"
      },
      "source": [
        "# Get Bee-DCD Repo from GitHub\n",
        "---"
      ]
    },
    {
      "cell_type": "code",
      "execution_count": 2,
      "metadata": {
        "colab": {
          "base_uri": "https://localhost:8080/",
          "height": 35
        },
        "id": "0gAKyfwBNCMc",
        "outputId": "c31c39a3-b3a7-4033-9b9b-df93cf52e0e3"
      },
      "outputs": [
        {
          "data": {
            "application/vnd.google.colaboratory.intrinsic+json": {
              "type": "string"
            },
            "text/plain": [
              "'/content'"
            ]
          },
          "execution_count": 2,
          "metadata": {},
          "output_type": "execute_result"
        }
      ],
      "source": [
        "%pwd"
      ]
    },
    {
      "cell_type": "code",
      "execution_count": 3,
      "metadata": {
        "colab": {
          "base_uri": "https://localhost:8080/"
        },
        "id": "xK14Dw9zMVWk",
        "outputId": "66612deb-b0a1-48fd-a9e9-b3dadc9023be"
      },
      "outputs": [
        {
          "name": "stdout",
          "output_type": "stream",
          "text": [
            "Cloning into 'Bee-DCD'...\n",
            "remote: Enumerating objects: 45, done.\u001b[K\n",
            "remote: Counting objects: 100% (45/45), done.\u001b[K\n",
            "remote: Compressing objects: 100% (44/44), done.\u001b[K\n",
            "remote: Total 45 (delta 9), reused 0 (delta 0), pack-reused 0\u001b[K\n",
            "Unpacking objects: 100% (45/45), done.\n"
          ]
        }
      ],
      "source": [
        "!git clone https://github.com/anilozdemir/Bee-DCD.git"
      ]
    },
    {
      "cell_type": "markdown",
      "metadata": {
        "id": "Jxuhu78IMVgq"
      },
      "source": [
        "## Install `btdm` module"
      ]
    },
    {
      "cell_type": "code",
      "execution_count": 4,
      "metadata": {
        "colab": {
          "base_uri": "https://localhost:8080/"
        },
        "id": "Ce3vntkBMVP7",
        "outputId": "4bfa23d0-91d1-420a-fa33-9dfc88bca782"
      },
      "outputs": [
        {
          "name": "stdout",
          "output_type": "stream",
          "text": [
            "/content/Bee-DCD/src\n"
          ]
        }
      ],
      "source": [
        "%cd Bee-DCD/src"
      ]
    },
    {
      "cell_type": "code",
      "execution_count": 5,
      "metadata": {
        "colab": {
          "base_uri": "https://localhost:8080/"
        },
        "id": "Y1cdWWpOMc9Q",
        "outputId": "f9e84587-3b5a-4868-a446-cff1e8b5e0be"
      },
      "outputs": [
        {
          "name": "stdout",
          "output_type": "stream",
          "text": [
            "running develop\n",
            "running egg_info\n",
            "creating BTDM.egg-info\n",
            "writing BTDM.egg-info/PKG-INFO\n",
            "writing dependency_links to BTDM.egg-info/dependency_links.txt\n",
            "writing top-level names to BTDM.egg-info/top_level.txt\n",
            "writing manifest file 'BTDM.egg-info/SOURCES.txt'\n",
            "writing manifest file 'BTDM.egg-info/SOURCES.txt'\n",
            "running build_ext\n",
            "Creating /usr/local/lib/python3.7/dist-packages/BTDM.egg-link (link to .)\n",
            "Adding BTDM 1.0 to easy-install.pth file\n",
            "\n",
            "Installed /content/Bee-DCD/src\n",
            "Processing dependencies for BTDM==1.0\n",
            "Finished processing dependencies for BTDM==1.0\n"
          ]
        }
      ],
      "source": [
        "!python setup.py develop"
      ]
    },
    {
      "cell_type": "markdown",
      "metadata": {
        "id": "V3PM9yLjMUVm"
      },
      "source": [
        "# Using Perturbed MLPs"
      ]
    },
    {
      "cell_type": "code",
      "execution_count": 6,
      "metadata": {
        "id": "uhghaxVuMUVq"
      },
      "outputs": [],
      "source": [
        "import time\n",
        "import matplotlib.pyplot as P\n",
        "from matplotlib import style\n",
        "import numpy as np\n",
        "import pandas as pd\n",
        "import seaborn as sns\n",
        "from tqdm.notebook import trange, tqdm\n",
        "import itertools\n",
        "\n",
        "import torch\n",
        "import torch.nn as nn\n",
        "import torch.optim as optim\n",
        "from torch.autograd import Variable\n",
        "from torch.distributions import Categorical\n",
        "import torch.nn.utils as utils\n",
        "\n",
        "from btdm.networks import *\n",
        "from btdm.environments import DCD_SingleStep\n",
        "from btdm.utils import * \n",
        "style.use('ggplot')\n",
        "from ipywidgets import interact, interactive, fixed, interact_manual\n",
        "import ipywidgets as widgets\n",
        "\n",
        "from joblib import Parallel, delayed"
      ]
    },
    {
      "cell_type": "markdown",
      "metadata": {
        "id": "kS6f6EPNMUVs"
      },
      "source": [
        "# Construct Exp Class and MLP"
      ]
    },
    {
      "cell_type": "code",
      "execution_count": 7,
      "metadata": {
        "id": "YEqkS18sMUVs"
      },
      "outputs": [],
      "source": [
        "class agent():\n",
        "    '''\n",
        "    Custom REINFORCE agent class\n",
        "    INPUT: env, model and optimiser\n",
        "    '''\n",
        "    def __init__(self, env, model, optim):\n",
        "        self.env   = env\n",
        "        self.model = model\n",
        "        self.optim = optim\n",
        "    \n",
        "    def run(self, nEpoch=1000, returnDF=False, silent=False):\n",
        "        self.nEpoch   = nEpoch         \n",
        "        # reverse assignment\n",
        "        env       = self.env  \n",
        "        model     = self.model\n",
        "        optimizer = self.optim\n",
        "        total_rewards = 0\n",
        "        logs = []\n",
        "        for epoch in trange(nEpoch, disable=silent):\n",
        "            state   = env.reset()\n",
        "            probs    = model(Variable(torch.Tensor([state])))[0] # predict \n",
        "            action   = torch.multinomial(probs, 1).item()\n",
        "            log_prob = torch.log(probs[action])\n",
        "            next_state, reward, done, _    = env.step(action)\n",
        "            total_rewards += reward\n",
        "            logs.append([epoch, env.cueID, action, np.round(log_prob.cpu().detach().numpy(),3), reward, total_rewards])                \n",
        "            # update time, at every epoch\n",
        "            policy_gradient = [-log_prob * reward]\n",
        "            loss = torch.stack(policy_gradient).sum()\n",
        "            optimizer.zero_grad()\n",
        "            loss.backward()\n",
        "            optimizer.step()\n",
        "        # Performance operations\n",
        "        cols = ['ep', 'cueID', 'action', 'logprob', 'reward', 'totalRewards']\n",
        "        self.logs     = logs\n",
        "        self.df       = pd.DataFrame(logs, columns = cols)\n",
        "        self.perf     = np.around(self.df['reward'].mean(),3)\n",
        "        self.nParam   = sum([np.prod(param.data.shape) for _, param in model.named_parameters() if param.requires_grad])\n",
        "        \n",
        "        if returnDF:\n",
        "            return self.df"
      ]
    },
    {
      "cell_type": "code",
      "execution_count": 8,
      "metadata": {
        "id": "Wje4I4gLMUVt"
      },
      "outputs": [],
      "source": [
        "class NoiseLayer(nn.Module):\n",
        "    def __init__(self, noise=0.1):\n",
        "        super().__init__()\n",
        "        self.noise = noise\n",
        "\n",
        "    def forward(self, x):\n",
        "        # if noise is nonzero, add Gaussian noise to the incoming tensor, else, do nothing\n",
        "        return x + torch.normal(0, self.noise, size=x.shape) if self.noise != 0 else x\n",
        "        \n",
        "    def extra_repr(self):\n",
        "        return f'noise_level={self.noise}'"
      ]
    },
    {
      "cell_type": "code",
      "execution_count": 9,
      "metadata": {
        "id": "SdTzHCRmMUVt"
      },
      "outputs": [],
      "source": [
        "def experiment(nHidden, nHiddenLayer, lR, bias, perturbedNoise, nEpoch=1000, returnDF=False, silent=True):\n",
        "    env     = DCD_SingleStep()\n",
        "    nInput  = env.observation_space.shape[0]\n",
        "    nOutput = env.action_space.n\n",
        "    hiddenLayers = [[nn.Linear(nHidden, nHidden,bias=bias), NoiseLayer(noise=perturbedNoise), nn.ReLU()] for _ in range(nHiddenLayer)]\n",
        "    net     = nn.Sequential(nn.Linear(nInput, nHidden,bias=bias), NoiseLayer(noise=perturbedNoise), nn.ReLU(), *list(itertools.chain(*hiddenLayers)), nn.Linear(nHidden, nOutput,bias=bias), softMax(temp=1))\n",
        "    opt     = optim.Adam(net.parameters(), lr=lR)\n",
        "    exp     = agent(env, net, opt)\n",
        "    exp.run(nEpoch=nEpoch, returnDF=returnDF, silent=silent)\n",
        "    return exp"
      ]
    },
    {
      "cell_type": "markdown",
      "metadata": {
        "id": "oQZiK9VbMUVu"
      },
      "source": [
        "# Experiments"
      ]
    },
    {
      "cell_type": "code",
      "execution_count": null,
      "metadata": {
        "colab": {
          "base_uri": "https://localhost:8080/",
          "height": 113,
          "referenced_widgets": [
            "9c538c3baa2d4084ac6bc00574821baf",
            "5abc877bfb6d4ce194d5351bd89e48f2",
            "22a9c23d4bcc4036a05e7d02bee51677",
            "649bbbacf1a2441e9c4cf8fd604bc54f",
            "e523b84e6e824783a065b8bb671c0d69",
            "1c3814d6d2994af6b6a2d1396d70ce2f",
            "b114db08593e490c8b4ec171026bf29b",
            "c7c4180946bd45b6a7aadc008a1d91e4",
            "16dcaf8f00d645c78b820be72b1fa9be",
            "50b103c13fee4503b4294964b29008e0",
            "5665bc8a98564264b8c4512351127f44",
            "af53f02036024069ade5a8a040e46213",
            "c54132cb33e643d7bc751f43c93300d7",
            "b3e6a82aec5845909cc24f2961286ed2",
            "8d4b02ca5f54476eafc0bc892f8ebfb2",
            "48833ab7bb33450895867ffbffe258f6",
            "c15e0f41ad56402f939f5ccf5f9defba",
            "ed09bb27ae8040b5b98846a96f792c34",
            "27a2069e9cb3499d85043ea49579f3eb",
            "acd7a8571aa540539c6513843d82d549",
            "dc15f27450644d92b3ce7dd4ab73c263",
            "ec994f14c66143e7ac1a86e29300fc5b",
            "11f914d2a72e49f6966cf53d6894ad24",
            "07ce462fcca045fb8ba45d043848c90d",
            "0647a8ca4acb4477816cfbcebc87dac5",
            "bb26326662264bf89c882eec492550e3",
            "a642273fafb44ac0a2bcfe81ff05004c",
            "e19674a6c90f46a9a26238b0dc07e364",
            "1bf9b82de4a1470b89b1b6c1f8d4a43d",
            "83e5e1aaea374c6f9ca94de62fce8c81",
            "d9ca7f42080a4edcbb62d81f26774503",
            "631b02b1766b430eb2f0a0cbf3ede5df",
            "f293578e1b6541f493ae7d9eb09248cf"
          ]
        },
        "id": "nK0KYu0OMUVu",
        "outputId": "bf201ec2-97ef-439c-ed64-5a87d23bc277",
        "tags": []
      },
      "outputs": [
        {
          "data": {
            "application/vnd.jupyter.widget-view+json": {
              "model_id": "9c538c3baa2d4084ac6bc00574821baf",
              "version_major": 2,
              "version_minor": 0
            },
            "text/plain": [
              "noise:   0%|          | 0/3 [00:00<?, ?it/s]"
            ]
          },
          "metadata": {},
          "output_type": "display_data"
        },
        {
          "data": {
            "application/vnd.jupyter.widget-view+json": {
              "model_id": "af53f02036024069ade5a8a040e46213",
              "version_major": 2,
              "version_minor": 0
            },
            "text/plain": [
              "layer:   0%|          | 0/3 [00:00<?, ?it/s]"
            ]
          },
          "metadata": {},
          "output_type": "display_data"
        },
        {
          "data": {
            "application/vnd.jupyter.widget-view+json": {
              "model_id": "11f914d2a72e49f6966cf53d6894ad24",
              "version_major": 2,
              "version_minor": 0
            },
            "text/plain": [
              "lRate:   0%|          | 0/8 [00:00<?, ?it/s]"
            ]
          },
          "metadata": {},
          "output_type": "display_data"
        }
      ],
      "source": [
        "nTrial  = 50\n",
        "nBin    = 50\n",
        "nEpoch  = 500\n",
        "bias    = True\n",
        "hidden  = 20 \n",
        "\n",
        "Layers  = [1, 5, 10]\n",
        "Noises  = [0.0, 0.5, 1.0]\n",
        "lRs     = [0.0005, 0.0003, 0.0002, 0.001, 0.005, 0.003, 0.002, 0.01] #[0.00001, 0.00005, 0.0001, 0.0005, 0.001, 0.005, 0.01, 0.05, 0.1, 0.5]\n",
        "\n",
        "\n",
        "PERF_RAW= np.zeros((len(Noises), len(Layers), len(lRs), nTrial, nEpoch))\n",
        "PERF    = np.zeros((len(Noises), len(Layers), len(lRs), nTrial, nEpoch-nBin+1))\n",
        "log     = []\n",
        "\n",
        "for iN, noise in enumerate(tqdm(Noises, leave=False, desc=\"noise\")):\n",
        "    for iL, layer in enumerate(tqdm(Layers, leave=False, desc=\"layer\")):\n",
        "        for ilR, lR in enumerate(tqdm(lRs, leave=False, desc=\"lRate\")):\n",
        "            # function for parallel running\n",
        "            def runParallel():\n",
        "                exp = experiment(nHidden=hidden, nHiddenLayer=layer, lR=lR, bias=bias, perturbedNoise=noise, nEpoch=nEpoch, returnDF=False, silent=True)\n",
        "                return exp\n",
        "            # run in parallel\n",
        "            EXP = np.array(Parallel(n_jobs=min(50,nTrial),verbose=0)(delayed(runParallel)() for _ in range(nTrial)))\n",
        "            # Go through the results and extract what is needed\n",
        "            for iT, exp in enumerate(EXP): \n",
        "                PERF[iN, iL, ilR, iT] = rolling_sum(np.array(exp.df['reward']), normalise=True, n=nBin)\n",
        "                PERF_RAW[iN, iL, ilR, iT] = exp.df['reward']\n",
        "                log.append([noise, layer, lR, iT, exp.nParam, exp.perf])"
      ]
    },
    {
      "cell_type": "code",
      "execution_count": null,
      "metadata": {
        "id": "IYTQfblQMUVv"
      },
      "outputs": [],
      "source": [
        "df = pd.DataFrame(log, columns=['noise','layer', 'lRate', 'trial', 'nParam', 'perf'])"
      ]
    },
    {
      "cell_type": "code",
      "execution_count": null,
      "metadata": {
        "id": "yl9qh-rFMUVw"
      },
      "outputs": [],
      "source": [
        "df"
      ]
    },
    {
      "cell_type": "markdown",
      "metadata": {
        "id": "2eNWDaxoMUVx"
      },
      "source": [
        "# Select Best lR for each layer size and each noise level"
      ]
    },
    {
      "cell_type": "code",
      "execution_count": null,
      "metadata": {
        "id": "2y-V3RV7MUVx"
      },
      "outputs": [],
      "source": [
        "scores = []\n",
        "for iN, noise in enumerate(Noises):\n",
        "    for iL, layer in enumerate(Layers):\n",
        "        scores.append([noise, layer, *np.mean(PERF[iN,iL],axis=1)[:,-1]])\n",
        "sDF = pd.DataFrame(scores, columns = ['noise', 'layer'] +['perf-lr-'+str(lr) for lr in lRs])\n",
        "sDF"
      ]
    },
    {
      "cell_type": "markdown",
      "metadata": {
        "id": "MZVe6XaIMUVx"
      },
      "source": [
        "## Programatically find the best lR"
      ]
    },
    {
      "cell_type": "code",
      "execution_count": null,
      "metadata": {
        "id": "FQxKPBbYMUVy"
      },
      "outputs": [],
      "source": [
        "optlR = np.zeros((3,3))\n",
        "for iN in range(3):\n",
        "    print(f'>> fastest to reach to 1 for noise: {Noises[iN]}')\n",
        "    for iL, layer in enumerate(Layers):\n",
        "        perf  = np.mean(PERF[iN,iL],axis=1)[:,-1]\n",
        "        index = np.argwhere(perf==1)\n",
        "        if len(index) != 0: # if there is at least one item reached perf=1; if so, get quickest\n",
        "            quickest = index[np.argmin([np.argwhere(np.mean(PERF[iN,iL],axis=1)[ind]==1)[0,1] for ind in index])][0] # get the lR-index of the quickest lR that reaches 1\n",
        "            print(f'layer: {layer}\\tlR: {lRs[quickest]}')\n",
        "            optlR[iN,iL] = lRs[quickest]\n",
        "        else: # if there is no perf=1; get the highest performance\n",
        "            print(f'layer: {layer}\\tlR: {lRs[np.argmax(perf)]}')\n",
        "            optlR[iN,iL] = lRs[np.argmax(perf)]\n",
        "    "
      ]
    },
    {
      "cell_type": "code",
      "execution_count": null,
      "metadata": {
        "id": "VIHXCAZoMUVy"
      },
      "outputs": [],
      "source": [
        "optlR"
      ]
    },
    {
      "cell_type": "code",
      "execution_count": null,
      "metadata": {
        "id": "UPkeqHMeMUVy"
      },
      "outputs": [],
      "source": [
        "# insert optimised lR and its arg in the list to sDF\n",
        "sDF.insert(2, 'optLR'    , optlR.flatten())\n",
        "sDF.insert(3, 'optLR-arg', list(map(lambda x: lRs.index(x), optlR.flatten())))\n",
        "sDF"
      ]
    },
    {
      "cell_type": "markdown",
      "metadata": {
        "id": "PI-AaG01MUVy"
      },
      "source": [
        "# Perform Post Evaluation with 500 Trials\n",
        "Using `optLR`"
      ]
    },
    {
      "cell_type": "code",
      "execution_count": null,
      "metadata": {
        "id": "XnOKJvjuMUVz"
      },
      "outputs": [],
      "source": [
        "nTrial  = 500\n",
        "nBin    = 50\n",
        "nEpoch  = 1000\n",
        "\n",
        "PERF1    = np.zeros((len(Noises), len(Layers), nTrial, nEpoch-nBin+1))\n",
        "PERF_RAW1= np.zeros((len(Noises), len(Layers), nTrial, nEpoch))\n",
        "log1     = []\n",
        "\n",
        "for iN, noise in enumerate(tqdm(Noises, leave=False, desc=\"noise\")):\n",
        "    for iL, layer in enumerate(tqdm(Layers, leave=False, desc=\"layer\")):\n",
        "        # get optimised learning rate\n",
        "        lR  = optlR[iN, iL]\n",
        "        # function for parallel running\n",
        "        def runParallel():\n",
        "            exp = experiment(nHidden=hidden, nHiddenLayer=layer, lR=lR, bias=bias, perturbedNoise=noise, nEpoch=nEpoch, returnDF=False, silent=True)\n",
        "            return exp\n",
        "        # run in parallel\n",
        "        EXP = np.array(Parallel(n_jobs=min(50,nTrial),verbose=0)(delayed(runParallel)() for _ in range(nTrial)))\n",
        "        # Go through the results and extract what is needed\n",
        "        for iT, exp in enumerate(EXP): \n",
        "            PERF1[iN, iL, iT] = rolling_sum(np.array(exp.df['reward']), normalise=True, n=nBin)\n",
        "            PERF_RAW1[iN, iL, iT] = exp.df['reward']\n",
        "            log1.append([noise, layer, lR, iT, exp.nParam, exp.perf])"
      ]
    },
    {
      "cell_type": "code",
      "execution_count": null,
      "metadata": {
        "id": "XXa9O6TiMUVz"
      },
      "outputs": [],
      "source": [
        "df1 = pd.DataFrame(log1, columns=['noise','layer', 'lRate', 'trial', 'nParam', 'perf'])"
      ]
    },
    {
      "cell_type": "markdown",
      "metadata": {
        "id": "Xicx2kxLMUVz"
      },
      "source": [
        "# Plotting & Analysis"
      ]
    },
    {
      "cell_type": "code",
      "execution_count": null,
      "metadata": {
        "id": "FnI63aaPMUVz"
      },
      "outputs": [],
      "source": [
        "sns.set_context('talk',font_scale=1.2)\n",
        "\n",
        "nBin = 50\n",
        "fig, ax = P.subplots(1,len(Noises),figsize=(26,6))\n",
        "for iN,noise in enumerate(Noises):\n",
        "    for iL,layer in enumerate(Layers):\n",
        "        data = np.array([rolling_sum(perf,n=nBin,normalise=True) for perf in PERF_RAW1[iN, iL]])\n",
        "        mean = np.mean(data,axis=0).T\n",
        "        std  = np.std(data,axis=0).T\n",
        "        ax[iN].plot(mean, label=str(layer))\n",
        "        ax[iN].fill_between(range(data.shape[-1]), mean-0.5*std, mean+0.5*std,alpha=0.1)\n",
        "    ax[iN].legend(title='#layers',loc=3)\n",
        "    P.setp(ax[iN],ylabel='performance', xlabel='epochs', ylim=[-0.1,1.1], xlim=[-1,nEpoch-nBin+5], title=f'noise: {Noises[iN]}');\n",
        "P.suptitle(f'Mean Performance of {nTrial} Trials with Optimised Learning Rates with {ExpName}', y=1.005);"
      ]
    }
  ],
  "metadata": {
    "colab": {
      "include_colab_link": true,
      "name": "03-MLP-with-hidden-layers.ipynb",
      "provenance": []
    },
    "kernelspec": {
      "display_name": "Python 3",
      "language": "python",
      "name": "python3"
    },
    "language_info": {
      "codemirror_mode": {
        "name": "ipython",
        "version": 3
      },
      "file_extension": ".py",
      "mimetype": "text/x-python",
      "name": "python",
      "nbconvert_exporter": "python",
      "pygments_lexer": "ipython3",
      "version": "3.8.5"
    },
    "toc-autonumbering": true,
    "widgets": {
      "application/vnd.jupyter.widget-state+json": {
        "0647a8ca4acb4477816cfbcebc87dac5": {
          "model_module": "@jupyter-widgets/controls",
          "model_module_version": "1.5.0",
          "model_name": "HTMLModel",
          "state": {
            "_dom_classes": [],
            "_model_module": "@jupyter-widgets/controls",
            "_model_module_version": "1.5.0",
            "_model_name": "HTMLModel",
            "_view_count": null,
            "_view_module": "@jupyter-widgets/controls",
            "_view_module_version": "1.5.0",
            "_view_name": "HTMLView",
            "description": "",
            "description_tooltip": null,
            "layout": "IPY_MODEL_1bf9b82de4a1470b89b1b6c1f8d4a43d",
            "placeholder": "​",
            "style": "IPY_MODEL_e19674a6c90f46a9a26238b0dc07e364",
            "value": "lRate:   0%"
          }
        },
        "07ce462fcca045fb8ba45d043848c90d": {
          "model_module": "@jupyter-widgets/base",
          "model_module_version": "1.2.0",
          "model_name": "LayoutModel",
          "state": {
            "_model_module": "@jupyter-widgets/base",
            "_model_module_version": "1.2.0",
            "_model_name": "LayoutModel",
            "_view_count": null,
            "_view_module": "@jupyter-widgets/base",
            "_view_module_version": "1.2.0",
            "_view_name": "LayoutView",
            "align_content": null,
            "align_items": null,
            "align_self": null,
            "border": null,
            "bottom": null,
            "display": null,
            "flex": null,
            "flex_flow": null,
            "grid_area": null,
            "grid_auto_columns": null,
            "grid_auto_flow": null,
            "grid_auto_rows": null,
            "grid_column": null,
            "grid_gap": null,
            "grid_row": null,
            "grid_template_areas": null,
            "grid_template_columns": null,
            "grid_template_rows": null,
            "height": null,
            "justify_content": null,
            "justify_items": null,
            "left": null,
            "margin": null,
            "max_height": null,
            "max_width": null,
            "min_height": null,
            "min_width": null,
            "object_fit": null,
            "object_position": null,
            "order": null,
            "overflow": null,
            "overflow_x": null,
            "overflow_y": null,
            "padding": null,
            "right": null,
            "top": null,
            "visibility": null,
            "width": null
          }
        },
        "11f914d2a72e49f6966cf53d6894ad24": {
          "model_module": "@jupyter-widgets/controls",
          "model_module_version": "1.5.0",
          "model_name": "HBoxModel",
          "state": {
            "_dom_classes": [],
            "_model_module": "@jupyter-widgets/controls",
            "_model_module_version": "1.5.0",
            "_model_name": "HBoxModel",
            "_view_count": null,
            "_view_module": "@jupyter-widgets/controls",
            "_view_module_version": "1.5.0",
            "_view_name": "HBoxView",
            "box_style": "",
            "children": [
              "IPY_MODEL_0647a8ca4acb4477816cfbcebc87dac5",
              "IPY_MODEL_bb26326662264bf89c882eec492550e3",
              "IPY_MODEL_a642273fafb44ac0a2bcfe81ff05004c"
            ],
            "layout": "IPY_MODEL_07ce462fcca045fb8ba45d043848c90d"
          }
        },
        "16dcaf8f00d645c78b820be72b1fa9be": {
          "model_module": "@jupyter-widgets/base",
          "model_module_version": "1.2.0",
          "model_name": "LayoutModel",
          "state": {
            "_model_module": "@jupyter-widgets/base",
            "_model_module_version": "1.2.0",
            "_model_name": "LayoutModel",
            "_view_count": null,
            "_view_module": "@jupyter-widgets/base",
            "_view_module_version": "1.2.0",
            "_view_name": "LayoutView",
            "align_content": null,
            "align_items": null,
            "align_self": null,
            "border": null,
            "bottom": null,
            "display": null,
            "flex": null,
            "flex_flow": null,
            "grid_area": null,
            "grid_auto_columns": null,
            "grid_auto_flow": null,
            "grid_auto_rows": null,
            "grid_column": null,
            "grid_gap": null,
            "grid_row": null,
            "grid_template_areas": null,
            "grid_template_columns": null,
            "grid_template_rows": null,
            "height": null,
            "justify_content": null,
            "justify_items": null,
            "left": null,
            "margin": null,
            "max_height": null,
            "max_width": null,
            "min_height": null,
            "min_width": null,
            "object_fit": null,
            "object_position": null,
            "order": null,
            "overflow": null,
            "overflow_x": null,
            "overflow_y": null,
            "padding": null,
            "right": null,
            "top": null,
            "visibility": null,
            "width": null
          }
        },
        "1bf9b82de4a1470b89b1b6c1f8d4a43d": {
          "model_module": "@jupyter-widgets/base",
          "model_module_version": "1.2.0",
          "model_name": "LayoutModel",
          "state": {
            "_model_module": "@jupyter-widgets/base",
            "_model_module_version": "1.2.0",
            "_model_name": "LayoutModel",
            "_view_count": null,
            "_view_module": "@jupyter-widgets/base",
            "_view_module_version": "1.2.0",
            "_view_name": "LayoutView",
            "align_content": null,
            "align_items": null,
            "align_self": null,
            "border": null,
            "bottom": null,
            "display": null,
            "flex": null,
            "flex_flow": null,
            "grid_area": null,
            "grid_auto_columns": null,
            "grid_auto_flow": null,
            "grid_auto_rows": null,
            "grid_column": null,
            "grid_gap": null,
            "grid_row": null,
            "grid_template_areas": null,
            "grid_template_columns": null,
            "grid_template_rows": null,
            "height": null,
            "justify_content": null,
            "justify_items": null,
            "left": null,
            "margin": null,
            "max_height": null,
            "max_width": null,
            "min_height": null,
            "min_width": null,
            "object_fit": null,
            "object_position": null,
            "order": null,
            "overflow": null,
            "overflow_x": null,
            "overflow_y": null,
            "padding": null,
            "right": null,
            "top": null,
            "visibility": null,
            "width": null
          }
        },
        "1c3814d6d2994af6b6a2d1396d70ce2f": {
          "model_module": "@jupyter-widgets/controls",
          "model_module_version": "1.5.0",
          "model_name": "DescriptionStyleModel",
          "state": {
            "_model_module": "@jupyter-widgets/controls",
            "_model_module_version": "1.5.0",
            "_model_name": "DescriptionStyleModel",
            "_view_count": null,
            "_view_module": "@jupyter-widgets/base",
            "_view_module_version": "1.2.0",
            "_view_name": "StyleView",
            "description_width": ""
          }
        },
        "22a9c23d4bcc4036a05e7d02bee51677": {
          "model_module": "@jupyter-widgets/controls",
          "model_module_version": "1.5.0",
          "model_name": "HTMLModel",
          "state": {
            "_dom_classes": [],
            "_model_module": "@jupyter-widgets/controls",
            "_model_module_version": "1.5.0",
            "_model_name": "HTMLModel",
            "_view_count": null,
            "_view_module": "@jupyter-widgets/controls",
            "_view_module_version": "1.5.0",
            "_view_name": "HTMLView",
            "description": "",
            "description_tooltip": null,
            "layout": "IPY_MODEL_b114db08593e490c8b4ec171026bf29b",
            "placeholder": "​",
            "style": "IPY_MODEL_1c3814d6d2994af6b6a2d1396d70ce2f",
            "value": "noise:   0%"
          }
        },
        "27a2069e9cb3499d85043ea49579f3eb": {
          "model_module": "@jupyter-widgets/controls",
          "model_module_version": "1.5.0",
          "model_name": "ProgressStyleModel",
          "state": {
            "_model_module": "@jupyter-widgets/controls",
            "_model_module_version": "1.5.0",
            "_model_name": "ProgressStyleModel",
            "_view_count": null,
            "_view_module": "@jupyter-widgets/base",
            "_view_module_version": "1.2.0",
            "_view_name": "StyleView",
            "bar_color": null,
            "description_width": ""
          }
        },
        "48833ab7bb33450895867ffbffe258f6": {
          "model_module": "@jupyter-widgets/controls",
          "model_module_version": "1.5.0",
          "model_name": "HTMLModel",
          "state": {
            "_dom_classes": [],
            "_model_module": "@jupyter-widgets/controls",
            "_model_module_version": "1.5.0",
            "_model_name": "HTMLModel",
            "_view_count": null,
            "_view_module": "@jupyter-widgets/controls",
            "_view_module_version": "1.5.0",
            "_view_name": "HTMLView",
            "description": "",
            "description_tooltip": null,
            "layout": "IPY_MODEL_ec994f14c66143e7ac1a86e29300fc5b",
            "placeholder": "​",
            "style": "IPY_MODEL_dc15f27450644d92b3ce7dd4ab73c263",
            "value": " 0/3 [00:00&lt;?, ?it/s]"
          }
        },
        "50b103c13fee4503b4294964b29008e0": {
          "model_module": "@jupyter-widgets/controls",
          "model_module_version": "1.5.0",
          "model_name": "DescriptionStyleModel",
          "state": {
            "_model_module": "@jupyter-widgets/controls",
            "_model_module_version": "1.5.0",
            "_model_name": "DescriptionStyleModel",
            "_view_count": null,
            "_view_module": "@jupyter-widgets/base",
            "_view_module_version": "1.2.0",
            "_view_name": "StyleView",
            "description_width": ""
          }
        },
        "5665bc8a98564264b8c4512351127f44": {
          "model_module": "@jupyter-widgets/base",
          "model_module_version": "1.2.0",
          "model_name": "LayoutModel",
          "state": {
            "_model_module": "@jupyter-widgets/base",
            "_model_module_version": "1.2.0",
            "_model_name": "LayoutModel",
            "_view_count": null,
            "_view_module": "@jupyter-widgets/base",
            "_view_module_version": "1.2.0",
            "_view_name": "LayoutView",
            "align_content": null,
            "align_items": null,
            "align_self": null,
            "border": null,
            "bottom": null,
            "display": null,
            "flex": null,
            "flex_flow": null,
            "grid_area": null,
            "grid_auto_columns": null,
            "grid_auto_flow": null,
            "grid_auto_rows": null,
            "grid_column": null,
            "grid_gap": null,
            "grid_row": null,
            "grid_template_areas": null,
            "grid_template_columns": null,
            "grid_template_rows": null,
            "height": null,
            "justify_content": null,
            "justify_items": null,
            "left": null,
            "margin": null,
            "max_height": null,
            "max_width": null,
            "min_height": null,
            "min_width": null,
            "object_fit": null,
            "object_position": null,
            "order": null,
            "overflow": null,
            "overflow_x": null,
            "overflow_y": null,
            "padding": null,
            "right": null,
            "top": null,
            "visibility": null,
            "width": null
          }
        },
        "5abc877bfb6d4ce194d5351bd89e48f2": {
          "model_module": "@jupyter-widgets/base",
          "model_module_version": "1.2.0",
          "model_name": "LayoutModel",
          "state": {
            "_model_module": "@jupyter-widgets/base",
            "_model_module_version": "1.2.0",
            "_model_name": "LayoutModel",
            "_view_count": null,
            "_view_module": "@jupyter-widgets/base",
            "_view_module_version": "1.2.0",
            "_view_name": "LayoutView",
            "align_content": null,
            "align_items": null,
            "align_self": null,
            "border": null,
            "bottom": null,
            "display": null,
            "flex": null,
            "flex_flow": null,
            "grid_area": null,
            "grid_auto_columns": null,
            "grid_auto_flow": null,
            "grid_auto_rows": null,
            "grid_column": null,
            "grid_gap": null,
            "grid_row": null,
            "grid_template_areas": null,
            "grid_template_columns": null,
            "grid_template_rows": null,
            "height": null,
            "justify_content": null,
            "justify_items": null,
            "left": null,
            "margin": null,
            "max_height": null,
            "max_width": null,
            "min_height": null,
            "min_width": null,
            "object_fit": null,
            "object_position": null,
            "order": null,
            "overflow": null,
            "overflow_x": null,
            "overflow_y": null,
            "padding": null,
            "right": null,
            "top": null,
            "visibility": null,
            "width": null
          }
        },
        "631b02b1766b430eb2f0a0cbf3ede5df": {
          "model_module": "@jupyter-widgets/controls",
          "model_module_version": "1.5.0",
          "model_name": "DescriptionStyleModel",
          "state": {
            "_model_module": "@jupyter-widgets/controls",
            "_model_module_version": "1.5.0",
            "_model_name": "DescriptionStyleModel",
            "_view_count": null,
            "_view_module": "@jupyter-widgets/base",
            "_view_module_version": "1.2.0",
            "_view_name": "StyleView",
            "description_width": ""
          }
        },
        "649bbbacf1a2441e9c4cf8fd604bc54f": {
          "model_module": "@jupyter-widgets/controls",
          "model_module_version": "1.5.0",
          "model_name": "FloatProgressModel",
          "state": {
            "_dom_classes": [],
            "_model_module": "@jupyter-widgets/controls",
            "_model_module_version": "1.5.0",
            "_model_name": "FloatProgressModel",
            "_view_count": null,
            "_view_module": "@jupyter-widgets/controls",
            "_view_module_version": "1.5.0",
            "_view_name": "ProgressView",
            "bar_style": "",
            "description": "",
            "description_tooltip": null,
            "layout": "IPY_MODEL_16dcaf8f00d645c78b820be72b1fa9be",
            "max": 3,
            "min": 0,
            "orientation": "horizontal",
            "style": "IPY_MODEL_c7c4180946bd45b6a7aadc008a1d91e4",
            "value": 0
          }
        },
        "83e5e1aaea374c6f9ca94de62fce8c81": {
          "model_module": "@jupyter-widgets/controls",
          "model_module_version": "1.5.0",
          "model_name": "ProgressStyleModel",
          "state": {
            "_model_module": "@jupyter-widgets/controls",
            "_model_module_version": "1.5.0",
            "_model_name": "ProgressStyleModel",
            "_view_count": null,
            "_view_module": "@jupyter-widgets/base",
            "_view_module_version": "1.2.0",
            "_view_name": "StyleView",
            "bar_color": null,
            "description_width": ""
          }
        },
        "8d4b02ca5f54476eafc0bc892f8ebfb2": {
          "model_module": "@jupyter-widgets/controls",
          "model_module_version": "1.5.0",
          "model_name": "FloatProgressModel",
          "state": {
            "_dom_classes": [],
            "_model_module": "@jupyter-widgets/controls",
            "_model_module_version": "1.5.0",
            "_model_name": "FloatProgressModel",
            "_view_count": null,
            "_view_module": "@jupyter-widgets/controls",
            "_view_module_version": "1.5.0",
            "_view_name": "ProgressView",
            "bar_style": "",
            "description": "",
            "description_tooltip": null,
            "layout": "IPY_MODEL_acd7a8571aa540539c6513843d82d549",
            "max": 3,
            "min": 0,
            "orientation": "horizontal",
            "style": "IPY_MODEL_27a2069e9cb3499d85043ea49579f3eb",
            "value": 0
          }
        },
        "9c538c3baa2d4084ac6bc00574821baf": {
          "model_module": "@jupyter-widgets/controls",
          "model_module_version": "1.5.0",
          "model_name": "HBoxModel",
          "state": {
            "_dom_classes": [],
            "_model_module": "@jupyter-widgets/controls",
            "_model_module_version": "1.5.0",
            "_model_name": "HBoxModel",
            "_view_count": null,
            "_view_module": "@jupyter-widgets/controls",
            "_view_module_version": "1.5.0",
            "_view_name": "HBoxView",
            "box_style": "",
            "children": [
              "IPY_MODEL_22a9c23d4bcc4036a05e7d02bee51677",
              "IPY_MODEL_649bbbacf1a2441e9c4cf8fd604bc54f",
              "IPY_MODEL_e523b84e6e824783a065b8bb671c0d69"
            ],
            "layout": "IPY_MODEL_5abc877bfb6d4ce194d5351bd89e48f2"
          }
        },
        "a642273fafb44ac0a2bcfe81ff05004c": {
          "model_module": "@jupyter-widgets/controls",
          "model_module_version": "1.5.0",
          "model_name": "HTMLModel",
          "state": {
            "_dom_classes": [],
            "_model_module": "@jupyter-widgets/controls",
            "_model_module_version": "1.5.0",
            "_model_name": "HTMLModel",
            "_view_count": null,
            "_view_module": "@jupyter-widgets/controls",
            "_view_module_version": "1.5.0",
            "_view_name": "HTMLView",
            "description": "",
            "description_tooltip": null,
            "layout": "IPY_MODEL_f293578e1b6541f493ae7d9eb09248cf",
            "placeholder": "​",
            "style": "IPY_MODEL_631b02b1766b430eb2f0a0cbf3ede5df",
            "value": " 0/8 [00:00&lt;?, ?it/s]"
          }
        },
        "acd7a8571aa540539c6513843d82d549": {
          "model_module": "@jupyter-widgets/base",
          "model_module_version": "1.2.0",
          "model_name": "LayoutModel",
          "state": {
            "_model_module": "@jupyter-widgets/base",
            "_model_module_version": "1.2.0",
            "_model_name": "LayoutModel",
            "_view_count": null,
            "_view_module": "@jupyter-widgets/base",
            "_view_module_version": "1.2.0",
            "_view_name": "LayoutView",
            "align_content": null,
            "align_items": null,
            "align_self": null,
            "border": null,
            "bottom": null,
            "display": null,
            "flex": null,
            "flex_flow": null,
            "grid_area": null,
            "grid_auto_columns": null,
            "grid_auto_flow": null,
            "grid_auto_rows": null,
            "grid_column": null,
            "grid_gap": null,
            "grid_row": null,
            "grid_template_areas": null,
            "grid_template_columns": null,
            "grid_template_rows": null,
            "height": null,
            "justify_content": null,
            "justify_items": null,
            "left": null,
            "margin": null,
            "max_height": null,
            "max_width": null,
            "min_height": null,
            "min_width": null,
            "object_fit": null,
            "object_position": null,
            "order": null,
            "overflow": null,
            "overflow_x": null,
            "overflow_y": null,
            "padding": null,
            "right": null,
            "top": null,
            "visibility": null,
            "width": null
          }
        },
        "af53f02036024069ade5a8a040e46213": {
          "model_module": "@jupyter-widgets/controls",
          "model_module_version": "1.5.0",
          "model_name": "HBoxModel",
          "state": {
            "_dom_classes": [],
            "_model_module": "@jupyter-widgets/controls",
            "_model_module_version": "1.5.0",
            "_model_name": "HBoxModel",
            "_view_count": null,
            "_view_module": "@jupyter-widgets/controls",
            "_view_module_version": "1.5.0",
            "_view_name": "HBoxView",
            "box_style": "",
            "children": [
              "IPY_MODEL_b3e6a82aec5845909cc24f2961286ed2",
              "IPY_MODEL_8d4b02ca5f54476eafc0bc892f8ebfb2",
              "IPY_MODEL_48833ab7bb33450895867ffbffe258f6"
            ],
            "layout": "IPY_MODEL_c54132cb33e643d7bc751f43c93300d7"
          }
        },
        "b114db08593e490c8b4ec171026bf29b": {
          "model_module": "@jupyter-widgets/base",
          "model_module_version": "1.2.0",
          "model_name": "LayoutModel",
          "state": {
            "_model_module": "@jupyter-widgets/base",
            "_model_module_version": "1.2.0",
            "_model_name": "LayoutModel",
            "_view_count": null,
            "_view_module": "@jupyter-widgets/base",
            "_view_module_version": "1.2.0",
            "_view_name": "LayoutView",
            "align_content": null,
            "align_items": null,
            "align_self": null,
            "border": null,
            "bottom": null,
            "display": null,
            "flex": null,
            "flex_flow": null,
            "grid_area": null,
            "grid_auto_columns": null,
            "grid_auto_flow": null,
            "grid_auto_rows": null,
            "grid_column": null,
            "grid_gap": null,
            "grid_row": null,
            "grid_template_areas": null,
            "grid_template_columns": null,
            "grid_template_rows": null,
            "height": null,
            "justify_content": null,
            "justify_items": null,
            "left": null,
            "margin": null,
            "max_height": null,
            "max_width": null,
            "min_height": null,
            "min_width": null,
            "object_fit": null,
            "object_position": null,
            "order": null,
            "overflow": null,
            "overflow_x": null,
            "overflow_y": null,
            "padding": null,
            "right": null,
            "top": null,
            "visibility": null,
            "width": null
          }
        },
        "b3e6a82aec5845909cc24f2961286ed2": {
          "model_module": "@jupyter-widgets/controls",
          "model_module_version": "1.5.0",
          "model_name": "HTMLModel",
          "state": {
            "_dom_classes": [],
            "_model_module": "@jupyter-widgets/controls",
            "_model_module_version": "1.5.0",
            "_model_name": "HTMLModel",
            "_view_count": null,
            "_view_module": "@jupyter-widgets/controls",
            "_view_module_version": "1.5.0",
            "_view_name": "HTMLView",
            "description": "",
            "description_tooltip": null,
            "layout": "IPY_MODEL_ed09bb27ae8040b5b98846a96f792c34",
            "placeholder": "​",
            "style": "IPY_MODEL_c15e0f41ad56402f939f5ccf5f9defba",
            "value": "layer:   0%"
          }
        },
        "bb26326662264bf89c882eec492550e3": {
          "model_module": "@jupyter-widgets/controls",
          "model_module_version": "1.5.0",
          "model_name": "FloatProgressModel",
          "state": {
            "_dom_classes": [],
            "_model_module": "@jupyter-widgets/controls",
            "_model_module_version": "1.5.0",
            "_model_name": "FloatProgressModel",
            "_view_count": null,
            "_view_module": "@jupyter-widgets/controls",
            "_view_module_version": "1.5.0",
            "_view_name": "ProgressView",
            "bar_style": "",
            "description": "",
            "description_tooltip": null,
            "layout": "IPY_MODEL_d9ca7f42080a4edcbb62d81f26774503",
            "max": 8,
            "min": 0,
            "orientation": "horizontal",
            "style": "IPY_MODEL_83e5e1aaea374c6f9ca94de62fce8c81",
            "value": 0
          }
        },
        "c15e0f41ad56402f939f5ccf5f9defba": {
          "model_module": "@jupyter-widgets/controls",
          "model_module_version": "1.5.0",
          "model_name": "DescriptionStyleModel",
          "state": {
            "_model_module": "@jupyter-widgets/controls",
            "_model_module_version": "1.5.0",
            "_model_name": "DescriptionStyleModel",
            "_view_count": null,
            "_view_module": "@jupyter-widgets/base",
            "_view_module_version": "1.2.0",
            "_view_name": "StyleView",
            "description_width": ""
          }
        },
        "c54132cb33e643d7bc751f43c93300d7": {
          "model_module": "@jupyter-widgets/base",
          "model_module_version": "1.2.0",
          "model_name": "LayoutModel",
          "state": {
            "_model_module": "@jupyter-widgets/base",
            "_model_module_version": "1.2.0",
            "_model_name": "LayoutModel",
            "_view_count": null,
            "_view_module": "@jupyter-widgets/base",
            "_view_module_version": "1.2.0",
            "_view_name": "LayoutView",
            "align_content": null,
            "align_items": null,
            "align_self": null,
            "border": null,
            "bottom": null,
            "display": null,
            "flex": null,
            "flex_flow": null,
            "grid_area": null,
            "grid_auto_columns": null,
            "grid_auto_flow": null,
            "grid_auto_rows": null,
            "grid_column": null,
            "grid_gap": null,
            "grid_row": null,
            "grid_template_areas": null,
            "grid_template_columns": null,
            "grid_template_rows": null,
            "height": null,
            "justify_content": null,
            "justify_items": null,
            "left": null,
            "margin": null,
            "max_height": null,
            "max_width": null,
            "min_height": null,
            "min_width": null,
            "object_fit": null,
            "object_position": null,
            "order": null,
            "overflow": null,
            "overflow_x": null,
            "overflow_y": null,
            "padding": null,
            "right": null,
            "top": null,
            "visibility": null,
            "width": null
          }
        },
        "c7c4180946bd45b6a7aadc008a1d91e4": {
          "model_module": "@jupyter-widgets/controls",
          "model_module_version": "1.5.0",
          "model_name": "ProgressStyleModel",
          "state": {
            "_model_module": "@jupyter-widgets/controls",
            "_model_module_version": "1.5.0",
            "_model_name": "ProgressStyleModel",
            "_view_count": null,
            "_view_module": "@jupyter-widgets/base",
            "_view_module_version": "1.2.0",
            "_view_name": "StyleView",
            "bar_color": null,
            "description_width": ""
          }
        },
        "d9ca7f42080a4edcbb62d81f26774503": {
          "model_module": "@jupyter-widgets/base",
          "model_module_version": "1.2.0",
          "model_name": "LayoutModel",
          "state": {
            "_model_module": "@jupyter-widgets/base",
            "_model_module_version": "1.2.0",
            "_model_name": "LayoutModel",
            "_view_count": null,
            "_view_module": "@jupyter-widgets/base",
            "_view_module_version": "1.2.0",
            "_view_name": "LayoutView",
            "align_content": null,
            "align_items": null,
            "align_self": null,
            "border": null,
            "bottom": null,
            "display": null,
            "flex": null,
            "flex_flow": null,
            "grid_area": null,
            "grid_auto_columns": null,
            "grid_auto_flow": null,
            "grid_auto_rows": null,
            "grid_column": null,
            "grid_gap": null,
            "grid_row": null,
            "grid_template_areas": null,
            "grid_template_columns": null,
            "grid_template_rows": null,
            "height": null,
            "justify_content": null,
            "justify_items": null,
            "left": null,
            "margin": null,
            "max_height": null,
            "max_width": null,
            "min_height": null,
            "min_width": null,
            "object_fit": null,
            "object_position": null,
            "order": null,
            "overflow": null,
            "overflow_x": null,
            "overflow_y": null,
            "padding": null,
            "right": null,
            "top": null,
            "visibility": null,
            "width": null
          }
        },
        "dc15f27450644d92b3ce7dd4ab73c263": {
          "model_module": "@jupyter-widgets/controls",
          "model_module_version": "1.5.0",
          "model_name": "DescriptionStyleModel",
          "state": {
            "_model_module": "@jupyter-widgets/controls",
            "_model_module_version": "1.5.0",
            "_model_name": "DescriptionStyleModel",
            "_view_count": null,
            "_view_module": "@jupyter-widgets/base",
            "_view_module_version": "1.2.0",
            "_view_name": "StyleView",
            "description_width": ""
          }
        },
        "e19674a6c90f46a9a26238b0dc07e364": {
          "model_module": "@jupyter-widgets/controls",
          "model_module_version": "1.5.0",
          "model_name": "DescriptionStyleModel",
          "state": {
            "_model_module": "@jupyter-widgets/controls",
            "_model_module_version": "1.5.0",
            "_model_name": "DescriptionStyleModel",
            "_view_count": null,
            "_view_module": "@jupyter-widgets/base",
            "_view_module_version": "1.2.0",
            "_view_name": "StyleView",
            "description_width": ""
          }
        },
        "e523b84e6e824783a065b8bb671c0d69": {
          "model_module": "@jupyter-widgets/controls",
          "model_module_version": "1.5.0",
          "model_name": "HTMLModel",
          "state": {
            "_dom_classes": [],
            "_model_module": "@jupyter-widgets/controls",
            "_model_module_version": "1.5.0",
            "_model_name": "HTMLModel",
            "_view_count": null,
            "_view_module": "@jupyter-widgets/controls",
            "_view_module_version": "1.5.0",
            "_view_name": "HTMLView",
            "description": "",
            "description_tooltip": null,
            "layout": "IPY_MODEL_5665bc8a98564264b8c4512351127f44",
            "placeholder": "​",
            "style": "IPY_MODEL_50b103c13fee4503b4294964b29008e0",
            "value": " 0/3 [00:00&lt;?, ?it/s]"
          }
        },
        "ec994f14c66143e7ac1a86e29300fc5b": {
          "model_module": "@jupyter-widgets/base",
          "model_module_version": "1.2.0",
          "model_name": "LayoutModel",
          "state": {
            "_model_module": "@jupyter-widgets/base",
            "_model_module_version": "1.2.0",
            "_model_name": "LayoutModel",
            "_view_count": null,
            "_view_module": "@jupyter-widgets/base",
            "_view_module_version": "1.2.0",
            "_view_name": "LayoutView",
            "align_content": null,
            "align_items": null,
            "align_self": null,
            "border": null,
            "bottom": null,
            "display": null,
            "flex": null,
            "flex_flow": null,
            "grid_area": null,
            "grid_auto_columns": null,
            "grid_auto_flow": null,
            "grid_auto_rows": null,
            "grid_column": null,
            "grid_gap": null,
            "grid_row": null,
            "grid_template_areas": null,
            "grid_template_columns": null,
            "grid_template_rows": null,
            "height": null,
            "justify_content": null,
            "justify_items": null,
            "left": null,
            "margin": null,
            "max_height": null,
            "max_width": null,
            "min_height": null,
            "min_width": null,
            "object_fit": null,
            "object_position": null,
            "order": null,
            "overflow": null,
            "overflow_x": null,
            "overflow_y": null,
            "padding": null,
            "right": null,
            "top": null,
            "visibility": null,
            "width": null
          }
        },
        "ed09bb27ae8040b5b98846a96f792c34": {
          "model_module": "@jupyter-widgets/base",
          "model_module_version": "1.2.0",
          "model_name": "LayoutModel",
          "state": {
            "_model_module": "@jupyter-widgets/base",
            "_model_module_version": "1.2.0",
            "_model_name": "LayoutModel",
            "_view_count": null,
            "_view_module": "@jupyter-widgets/base",
            "_view_module_version": "1.2.0",
            "_view_name": "LayoutView",
            "align_content": null,
            "align_items": null,
            "align_self": null,
            "border": null,
            "bottom": null,
            "display": null,
            "flex": null,
            "flex_flow": null,
            "grid_area": null,
            "grid_auto_columns": null,
            "grid_auto_flow": null,
            "grid_auto_rows": null,
            "grid_column": null,
            "grid_gap": null,
            "grid_row": null,
            "grid_template_areas": null,
            "grid_template_columns": null,
            "grid_template_rows": null,
            "height": null,
            "justify_content": null,
            "justify_items": null,
            "left": null,
            "margin": null,
            "max_height": null,
            "max_width": null,
            "min_height": null,
            "min_width": null,
            "object_fit": null,
            "object_position": null,
            "order": null,
            "overflow": null,
            "overflow_x": null,
            "overflow_y": null,
            "padding": null,
            "right": null,
            "top": null,
            "visibility": null,
            "width": null
          }
        },
        "f293578e1b6541f493ae7d9eb09248cf": {
          "model_module": "@jupyter-widgets/base",
          "model_module_version": "1.2.0",
          "model_name": "LayoutModel",
          "state": {
            "_model_module": "@jupyter-widgets/base",
            "_model_module_version": "1.2.0",
            "_model_name": "LayoutModel",
            "_view_count": null,
            "_view_module": "@jupyter-widgets/base",
            "_view_module_version": "1.2.0",
            "_view_name": "LayoutView",
            "align_content": null,
            "align_items": null,
            "align_self": null,
            "border": null,
            "bottom": null,
            "display": null,
            "flex": null,
            "flex_flow": null,
            "grid_area": null,
            "grid_auto_columns": null,
            "grid_auto_flow": null,
            "grid_auto_rows": null,
            "grid_column": null,
            "grid_gap": null,
            "grid_row": null,
            "grid_template_areas": null,
            "grid_template_columns": null,
            "grid_template_rows": null,
            "height": null,
            "justify_content": null,
            "justify_items": null,
            "left": null,
            "margin": null,
            "max_height": null,
            "max_width": null,
            "min_height": null,
            "min_width": null,
            "object_fit": null,
            "object_position": null,
            "order": null,
            "overflow": null,
            "overflow_x": null,
            "overflow_y": null,
            "padding": null,
            "right": null,
            "top": null,
            "visibility": null,
            "width": null
          }
        }
      }
    }
  },
  "nbformat": 4,
  "nbformat_minor": 0
}
